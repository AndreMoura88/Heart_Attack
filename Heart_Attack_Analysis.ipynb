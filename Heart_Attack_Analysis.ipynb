{
  "nbformat": 4,
  "nbformat_minor": 0,
  "metadata": {
    "colab": {
      "provenance": [],
      "collapsed_sections": [
        "t2W0UPprzZk4",
        "bzbH6Zerzimn",
        "Yjam3l8WSXiO",
        "fuywhVG00oBd"
      ],
      "mount_file_id": "1Orudzul2CtwgCHsWuFwzOiTz3V4QTkDQ",
      "authorship_tag": "ABX9TyN98ZJIR5ZAeRW03LOVf3LD",
      "include_colab_link": true
    },
    "kernelspec": {
      "name": "python3",
      "display_name": "Python 3"
    },
    "language_info": {
      "name": "python"
    },
    "widgets": {
      "application/vnd.jupyter.widget-state+json": {
        "8380c04ddde44f63a6d4608a43f4d5de": {
          "model_module": "@jupyter-widgets/controls",
          "model_name": "HBoxModel",
          "model_module_version": "1.5.0",
          "state": {
            "_dom_classes": [],
            "_model_module": "@jupyter-widgets/controls",
            "_model_module_version": "1.5.0",
            "_model_name": "HBoxModel",
            "_view_count": null,
            "_view_module": "@jupyter-widgets/controls",
            "_view_module_version": "1.5.0",
            "_view_name": "HBoxView",
            "box_style": "",
            "children": [
              "IPY_MODEL_7732adb2ea664b13871747e0c3942426",
              "IPY_MODEL_0fe2342b195c4094a429363c9e272a44",
              "IPY_MODEL_2bb9c2ea64c04225aa5e24df1f9456f1"
            ],
            "layout": "IPY_MODEL_80033b4b8adf4bf49d1bf6c8d94cda61"
          }
        },
        "7732adb2ea664b13871747e0c3942426": {
          "model_module": "@jupyter-widgets/controls",
          "model_name": "HTMLModel",
          "model_module_version": "1.5.0",
          "state": {
            "_dom_classes": [],
            "_model_module": "@jupyter-widgets/controls",
            "_model_module_version": "1.5.0",
            "_model_name": "HTMLModel",
            "_view_count": null,
            "_view_module": "@jupyter-widgets/controls",
            "_view_module_version": "1.5.0",
            "_view_name": "HTMLView",
            "description": "",
            "description_tooltip": null,
            "layout": "IPY_MODEL_687c90fd13784010a4faa8ee5011dc34",
            "placeholder": "​",
            "style": "IPY_MODEL_5b095f3c503f4fe0a1d8df3bd560bb87",
            "value": "Done! Use &#x27;show&#x27; commands to display/save.   "
          }
        },
        "0fe2342b195c4094a429363c9e272a44": {
          "model_module": "@jupyter-widgets/controls",
          "model_name": "FloatProgressModel",
          "model_module_version": "1.5.0",
          "state": {
            "_dom_classes": [],
            "_model_module": "@jupyter-widgets/controls",
            "_model_module_version": "1.5.0",
            "_model_name": "FloatProgressModel",
            "_view_count": null,
            "_view_module": "@jupyter-widgets/controls",
            "_view_module_version": "1.5.0",
            "_view_name": "ProgressView",
            "bar_style": "success",
            "description": "",
            "description_tooltip": null,
            "layout": "IPY_MODEL_e717ade389044ab2880567750c9da102",
            "max": 1,
            "min": 0,
            "orientation": "horizontal",
            "style": "IPY_MODEL_4bd9334befe3484d80b930c1c6f524d2",
            "value": 1
          }
        },
        "2bb9c2ea64c04225aa5e24df1f9456f1": {
          "model_module": "@jupyter-widgets/controls",
          "model_name": "HTMLModel",
          "model_module_version": "1.5.0",
          "state": {
            "_dom_classes": [],
            "_model_module": "@jupyter-widgets/controls",
            "_model_module_version": "1.5.0",
            "_model_name": "HTMLModel",
            "_view_count": null,
            "_view_module": "@jupyter-widgets/controls",
            "_view_module_version": "1.5.0",
            "_view_name": "HTMLView",
            "description": "",
            "description_tooltip": null,
            "layout": "IPY_MODEL_a344a906ab9e484cb041810d852d0c5b",
            "placeholder": "​",
            "style": "IPY_MODEL_04987d33081b4c21a2b04eb3a9063f7c",
            "value": " [100%]   00:01 -&gt; (00:00 left)"
          }
        },
        "80033b4b8adf4bf49d1bf6c8d94cda61": {
          "model_module": "@jupyter-widgets/base",
          "model_name": "LayoutModel",
          "model_module_version": "1.2.0",
          "state": {
            "_model_module": "@jupyter-widgets/base",
            "_model_module_version": "1.2.0",
            "_model_name": "LayoutModel",
            "_view_count": null,
            "_view_module": "@jupyter-widgets/base",
            "_view_module_version": "1.2.0",
            "_view_name": "LayoutView",
            "align_content": null,
            "align_items": null,
            "align_self": null,
            "border": null,
            "bottom": null,
            "display": "inline-flex",
            "flex": null,
            "flex_flow": "row wrap",
            "grid_area": null,
            "grid_auto_columns": null,
            "grid_auto_flow": null,
            "grid_auto_rows": null,
            "grid_column": null,
            "grid_gap": null,
            "grid_row": null,
            "grid_template_areas": null,
            "grid_template_columns": null,
            "grid_template_rows": null,
            "height": null,
            "justify_content": null,
            "justify_items": null,
            "left": null,
            "margin": null,
            "max_height": null,
            "max_width": null,
            "min_height": null,
            "min_width": null,
            "object_fit": null,
            "object_position": null,
            "order": null,
            "overflow": null,
            "overflow_x": null,
            "overflow_y": null,
            "padding": null,
            "right": null,
            "top": null,
            "visibility": null,
            "width": "100%"
          }
        },
        "687c90fd13784010a4faa8ee5011dc34": {
          "model_module": "@jupyter-widgets/base",
          "model_name": "LayoutModel",
          "model_module_version": "1.2.0",
          "state": {
            "_model_module": "@jupyter-widgets/base",
            "_model_module_version": "1.2.0",
            "_model_name": "LayoutModel",
            "_view_count": null,
            "_view_module": "@jupyter-widgets/base",
            "_view_module_version": "1.2.0",
            "_view_name": "LayoutView",
            "align_content": null,
            "align_items": null,
            "align_self": null,
            "border": null,
            "bottom": null,
            "display": null,
            "flex": null,
            "flex_flow": null,
            "grid_area": null,
            "grid_auto_columns": null,
            "grid_auto_flow": null,
            "grid_auto_rows": null,
            "grid_column": null,
            "grid_gap": null,
            "grid_row": null,
            "grid_template_areas": null,
            "grid_template_columns": null,
            "grid_template_rows": null,
            "height": null,
            "justify_content": null,
            "justify_items": null,
            "left": null,
            "margin": null,
            "max_height": null,
            "max_width": null,
            "min_height": null,
            "min_width": null,
            "object_fit": null,
            "object_position": null,
            "order": null,
            "overflow": null,
            "overflow_x": null,
            "overflow_y": null,
            "padding": null,
            "right": null,
            "top": null,
            "visibility": null,
            "width": null
          }
        },
        "5b095f3c503f4fe0a1d8df3bd560bb87": {
          "model_module": "@jupyter-widgets/controls",
          "model_name": "DescriptionStyleModel",
          "model_module_version": "1.5.0",
          "state": {
            "_model_module": "@jupyter-widgets/controls",
            "_model_module_version": "1.5.0",
            "_model_name": "DescriptionStyleModel",
            "_view_count": null,
            "_view_module": "@jupyter-widgets/base",
            "_view_module_version": "1.2.0",
            "_view_name": "StyleView",
            "description_width": ""
          }
        },
        "e717ade389044ab2880567750c9da102": {
          "model_module": "@jupyter-widgets/base",
          "model_name": "LayoutModel",
          "model_module_version": "1.2.0",
          "state": {
            "_model_module": "@jupyter-widgets/base",
            "_model_module_version": "1.2.0",
            "_model_name": "LayoutModel",
            "_view_count": null,
            "_view_module": "@jupyter-widgets/base",
            "_view_module_version": "1.2.0",
            "_view_name": "LayoutView",
            "align_content": null,
            "align_items": null,
            "align_self": null,
            "border": null,
            "bottom": null,
            "display": null,
            "flex": "2",
            "flex_flow": null,
            "grid_area": null,
            "grid_auto_columns": null,
            "grid_auto_flow": null,
            "grid_auto_rows": null,
            "grid_column": null,
            "grid_gap": null,
            "grid_row": null,
            "grid_template_areas": null,
            "grid_template_columns": null,
            "grid_template_rows": null,
            "height": null,
            "justify_content": null,
            "justify_items": null,
            "left": null,
            "margin": null,
            "max_height": null,
            "max_width": null,
            "min_height": null,
            "min_width": null,
            "object_fit": null,
            "object_position": null,
            "order": null,
            "overflow": null,
            "overflow_x": null,
            "overflow_y": null,
            "padding": null,
            "right": null,
            "top": null,
            "visibility": null,
            "width": null
          }
        },
        "4bd9334befe3484d80b930c1c6f524d2": {
          "model_module": "@jupyter-widgets/controls",
          "model_name": "ProgressStyleModel",
          "model_module_version": "1.5.0",
          "state": {
            "_model_module": "@jupyter-widgets/controls",
            "_model_module_version": "1.5.0",
            "_model_name": "ProgressStyleModel",
            "_view_count": null,
            "_view_module": "@jupyter-widgets/base",
            "_view_module_version": "1.2.0",
            "_view_name": "StyleView",
            "bar_color": null,
            "description_width": ""
          }
        },
        "a344a906ab9e484cb041810d852d0c5b": {
          "model_module": "@jupyter-widgets/base",
          "model_name": "LayoutModel",
          "model_module_version": "1.2.0",
          "state": {
            "_model_module": "@jupyter-widgets/base",
            "_model_module_version": "1.2.0",
            "_model_name": "LayoutModel",
            "_view_count": null,
            "_view_module": "@jupyter-widgets/base",
            "_view_module_version": "1.2.0",
            "_view_name": "LayoutView",
            "align_content": null,
            "align_items": null,
            "align_self": null,
            "border": null,
            "bottom": null,
            "display": null,
            "flex": null,
            "flex_flow": null,
            "grid_area": null,
            "grid_auto_columns": null,
            "grid_auto_flow": null,
            "grid_auto_rows": null,
            "grid_column": null,
            "grid_gap": null,
            "grid_row": null,
            "grid_template_areas": null,
            "grid_template_columns": null,
            "grid_template_rows": null,
            "height": null,
            "justify_content": null,
            "justify_items": null,
            "left": null,
            "margin": null,
            "max_height": null,
            "max_width": null,
            "min_height": null,
            "min_width": null,
            "object_fit": null,
            "object_position": null,
            "order": null,
            "overflow": null,
            "overflow_x": null,
            "overflow_y": null,
            "padding": null,
            "right": null,
            "top": null,
            "visibility": null,
            "width": null
          }
        },
        "04987d33081b4c21a2b04eb3a9063f7c": {
          "model_module": "@jupyter-widgets/controls",
          "model_name": "DescriptionStyleModel",
          "model_module_version": "1.5.0",
          "state": {
            "_model_module": "@jupyter-widgets/controls",
            "_model_module_version": "1.5.0",
            "_model_name": "DescriptionStyleModel",
            "_view_count": null,
            "_view_module": "@jupyter-widgets/base",
            "_view_module_version": "1.2.0",
            "_view_name": "StyleView",
            "description_width": ""
          }
        }
      }
    }
  },
  "cells": [
    {
      "cell_type": "markdown",
      "metadata": {
        "id": "view-in-github",
        "colab_type": "text"
      },
      "source": [
        "<a href=\"https://colab.research.google.com/github/AndreMoura88/Heart_Attack/blob/main/Heart_Attack_Analysis.ipynb\" target=\"_parent\"><img src=\"https://colab.research.google.com/assets/colab-badge.svg\" alt=\"Open In Colab\"/></a>"
      ]
    },
    {
      "cell_type": "markdown",
      "source": [
        "## 1.1 Instalando/atualizando bibliotecas, reiciniando o \"runtime\" e importando bibliotecas para tratamento dos dados. Esta etapa é importante para atualizar a versão do matplotlib, habilitando alguns recursos inesistentes na versão atual do Colab. \n",
        "\n",
        "## *Installing/updating libraries, restarting the \"runtime\" and importing libraries for data processing. This step is important to update the matplotlib version, enabling some features not available in the current version of Colab.*"
      ],
      "metadata": {
        "id": "s4s19nIyfWMv"
      }
    },
    {
      "cell_type": "code",
      "source": [
        "! pip install sweetviz\n",
        "! pip install https://github.com/pandas-profiling/pandas-profiling/archive/master.zip \n",
        "#update matplotlib\n",
        "!pip install matplotlib --upgrade\n",
        "!pip install scipy --upgrade\n",
        "import os\n",
        "os.kill(os.getpid(), 9)"
      ],
      "metadata": {
        "id": "rqKvll9ISLwF"
      },
      "execution_count": null,
      "outputs": []
    },
    {
      "cell_type": "code",
      "execution_count": 1,
      "metadata": {
        "id": "peJX1yO2PuRN"
      },
      "outputs": [],
      "source": [
        "import pandas as pd\n",
        "import numpy as np\n",
        "\n",
        "# import sweetviz as sv\n",
        "# from pandas_profiling import ProfileReport\n",
        "\n",
        "import matplotlib.pyplot as plt\n",
        "plt.rc('font', size=14)\n",
        "plt.rc('axes', labelsize=14, titlesize=14)\n",
        "plt.rc('legend', fontsize=14)\n",
        "plt.rc('xtick', labelsize=10)\n",
        "plt.rc('ytick', labelsize=10)\n",
        "\n",
        "import seaborn as sns\n",
        "\n",
        "from plotly.offline import init_notebook_mode, iplot\n",
        "import plotly.figure_factory as ff\n",
        "import plotly.graph_objs as go\n",
        "import plotly\n",
        "from plotly import tools"
      ]
    },
    {
      "cell_type": "code",
      "source": [
        "# Importando datasets/ Dataset importing\n",
        "df_heart = pd.read_csv('/content/drive/MyDrive/Colab Notebooks/datasets/Heart_Attack_Analysis/heart.csv')"
      ],
      "metadata": {
        "id": "iJx8l5rQbUI0"
      },
      "execution_count": 2,
      "outputs": []
    },
    {
      "cell_type": "markdown",
      "source": [
        "## 1.2 **Conhecendo o dataset** // *Knowing the dataset*\n"
      ],
      "metadata": {
        "id": "ug7MIdVegP6m"
      }
    },
    {
      "cell_type": "markdown",
      "source": [
        "Informações sobre a base de dados/ *About this dataset* \n",
        "<br>\n",
        "\n",
        "Para melhor acompanhamento das variáveis serão modificados seus nomes (o título terá uma preferência pelo idioma português) / <br> \n",
        "*For better monitoring of the variables, their names will be modified (the title will have a preference for the Portuguese language)*\n",
        "<br><br>\n",
        "\n",
        "1. **age** <br>\n",
        "Idade do paciente / *Age of the patient*\n",
        "<br>\n",
        "\n",
        "2. **sex**<br>\n",
        "Sexo do paciente/ *Sex of the patient*\n",
        "* 0 = feminino/ *female*\n",
        "* 1 = masculino/ *male*\n",
        "<br><br>\n",
        "\n",
        "3. **tipo_de_dor**<br>\n",
        " Tipo de dor no peito/ *Chest Pain type*<br>\n",
        " Angina é o nome dado para a dor no peito causada pela diminuição do fluxo de sangue no coração.\n",
        " <br> *Angina is the name given to chest pain caused by decreased blood flow to the heart.*\n",
        "* 0 = assintomático/ *asymptomatic* \n",
        "* 1 = angina típica/ *typical angina*\n",
        "* 2 = angina atípica/ *atypical angina* \n",
        "* 3 = sem dor angina/ *non-anginal pain*\n",
        "<br><br>\n",
        "\n",
        "4. **pres_art_repous**<br>\n",
        "Pressão arterial em repouso / *resting blood pressure (in mm Hg)*\n",
        "<br>\n",
        "\n",
        "5. **colest**<br>\n",
        "Colesterol em mg/dl obtido via sensor de IMC / *cholestoral in mg/dl fetched via BMI sensor* \n",
        "<br>\n",
        "\n",
        "6. **acuc_sang_jejum**<br>\n",
        " Açúcar no sangue em jejum > 120 mg/dl / *fasting blood sugar > 120 mg/dl*\n",
        "* 0 = Falso/ *False*\n",
        "* 1 = Verdadeiro / *True*\n",
        "<br><br>\n",
        "\n",
        "7. **eletrc_desc**<br>\n",
        "Resultados eletrocardiográficos em repouso / *resting electrocardiographic results*\n",
        "* 0 = hypertrophy,  mostrando hipertrofia ventricular esquerda provável ou definitiva pelos critérios de Estes / *showing probable or definite left ventricular hypertrophy by Estes' criteria*\n",
        "* 1 = normal; \n",
        "* 2 = tendo anormalidade da onda ST-T (inversões da onda T e/ou elevação ou depressão ST > 0,05 mV) / *having ST-T wave abnormality, (T wave inversions and/or ST elevation or depression of > 0.05 mV)*\n",
        "<br><br>\n",
        "\n",
        "8. **max_frq_card**<br>\n",
        "Frequência cardíaca máxima alcançada / *maximum heart rate achieved* \n",
        "<br>\n",
        "\n",
        "9. **ang_indz_exerc**<br>\n",
        "angina induzida por exercício / *exercise induced angina*\n",
        "* 0 = Não/ *No*\n",
        "* 1 = Sim/ *Yes*\n",
        "<br><br>\n",
        "\n",
        "10. **ST_indz_exerc**<br>\n",
        "Depressão de ST induzida por exercício em relação ao repouso / *ST depression induced by exercise relative to rest*\n",
        "<br>\n",
        "\n",
        "11. **pico_ST_exerc**<br>\n",
        "A inclinação do pico do segmento ST do exercício / *the slope of the peak exercise ST segment*\n",
        "* 0 = ascendente/ *upsloping*\n",
        "* 1 = plano /*flat*\n",
        "* 2 = descendente/ *downsloping*\n",
        "<br><br>\n",
        "\n",
        "12. **num_vasos**<br>\n",
        "número de vasos principais  (0-3) / *number of major vessels*\n",
        "<br>\n",
        "\n",
        "13. **talassemia**<br>\n",
        "talassemia (uma forma de anemia crônica)/ *thalassemia*\n",
        "* 1 = fixed defect\n",
        "* 2 = normal\n",
        "* 3 = reversable defect\n",
        "<br><br>\n",
        "\n",
        "14. target : \n",
        "* 0 = menos chance de um ataque do coração / *less chance of heart attack*<br>\n",
        "* 1 = maior chance de um ataque do coração / *more chance of heart attack*\n"
      ],
      "metadata": {
        "id": "sssdjdFQb1Gv"
      }
    },
    {
      "cell_type": "markdown",
      "source": [
        "##### 1.2.1 Pandas"
      ],
      "metadata": {
        "id": "t2W0UPprzZk4"
      }
    },
    {
      "cell_type": "code",
      "source": [
        "df_heart.head()"
      ],
      "metadata": {
        "colab": {
          "base_uri": "https://localhost:8080/",
          "height": 206
        },
        "id": "iIzHFHA3bVxP",
        "outputId": "effee892-64f0-411a-8b9c-a857c69e4063"
      },
      "execution_count": null,
      "outputs": [
        {
          "output_type": "execute_result",
          "data": {
            "text/plain": [
              "   age  sex  cp  trtbps  chol  fbs  restecg  thalachh  exng  oldpeak  slp  \\\n",
              "0   63    1   3     145   233    1        0       150     0      2.3    0   \n",
              "1   37    1   2     130   250    0        1       187     0      3.5    0   \n",
              "2   41    0   1     130   204    0        0       172     0      1.4    2   \n",
              "3   56    1   1     120   236    0        1       178     0      0.8    2   \n",
              "4   57    0   0     120   354    0        1       163     1      0.6    2   \n",
              "\n",
              "   caa  thall  output  \n",
              "0    0      1       1  \n",
              "1    0      2       1  \n",
              "2    0      2       1  \n",
              "3    0      2       1  \n",
              "4    0      2       1  "
            ],
            "text/html": [
              "\n",
              "  <div id=\"df-acd471c5-6b62-45d6-83ec-e9cc4d74e8b5\">\n",
              "    <div class=\"colab-df-container\">\n",
              "      <div>\n",
              "<style scoped>\n",
              "    .dataframe tbody tr th:only-of-type {\n",
              "        vertical-align: middle;\n",
              "    }\n",
              "\n",
              "    .dataframe tbody tr th {\n",
              "        vertical-align: top;\n",
              "    }\n",
              "\n",
              "    .dataframe thead th {\n",
              "        text-align: right;\n",
              "    }\n",
              "</style>\n",
              "<table border=\"1\" class=\"dataframe\">\n",
              "  <thead>\n",
              "    <tr style=\"text-align: right;\">\n",
              "      <th></th>\n",
              "      <th>age</th>\n",
              "      <th>sex</th>\n",
              "      <th>cp</th>\n",
              "      <th>trtbps</th>\n",
              "      <th>chol</th>\n",
              "      <th>fbs</th>\n",
              "      <th>restecg</th>\n",
              "      <th>thalachh</th>\n",
              "      <th>exng</th>\n",
              "      <th>oldpeak</th>\n",
              "      <th>slp</th>\n",
              "      <th>caa</th>\n",
              "      <th>thall</th>\n",
              "      <th>output</th>\n",
              "    </tr>\n",
              "  </thead>\n",
              "  <tbody>\n",
              "    <tr>\n",
              "      <th>0</th>\n",
              "      <td>63</td>\n",
              "      <td>1</td>\n",
              "      <td>3</td>\n",
              "      <td>145</td>\n",
              "      <td>233</td>\n",
              "      <td>1</td>\n",
              "      <td>0</td>\n",
              "      <td>150</td>\n",
              "      <td>0</td>\n",
              "      <td>2.3</td>\n",
              "      <td>0</td>\n",
              "      <td>0</td>\n",
              "      <td>1</td>\n",
              "      <td>1</td>\n",
              "    </tr>\n",
              "    <tr>\n",
              "      <th>1</th>\n",
              "      <td>37</td>\n",
              "      <td>1</td>\n",
              "      <td>2</td>\n",
              "      <td>130</td>\n",
              "      <td>250</td>\n",
              "      <td>0</td>\n",
              "      <td>1</td>\n",
              "      <td>187</td>\n",
              "      <td>0</td>\n",
              "      <td>3.5</td>\n",
              "      <td>0</td>\n",
              "      <td>0</td>\n",
              "      <td>2</td>\n",
              "      <td>1</td>\n",
              "    </tr>\n",
              "    <tr>\n",
              "      <th>2</th>\n",
              "      <td>41</td>\n",
              "      <td>0</td>\n",
              "      <td>1</td>\n",
              "      <td>130</td>\n",
              "      <td>204</td>\n",
              "      <td>0</td>\n",
              "      <td>0</td>\n",
              "      <td>172</td>\n",
              "      <td>0</td>\n",
              "      <td>1.4</td>\n",
              "      <td>2</td>\n",
              "      <td>0</td>\n",
              "      <td>2</td>\n",
              "      <td>1</td>\n",
              "    </tr>\n",
              "    <tr>\n",
              "      <th>3</th>\n",
              "      <td>56</td>\n",
              "      <td>1</td>\n",
              "      <td>1</td>\n",
              "      <td>120</td>\n",
              "      <td>236</td>\n",
              "      <td>0</td>\n",
              "      <td>1</td>\n",
              "      <td>178</td>\n",
              "      <td>0</td>\n",
              "      <td>0.8</td>\n",
              "      <td>2</td>\n",
              "      <td>0</td>\n",
              "      <td>2</td>\n",
              "      <td>1</td>\n",
              "    </tr>\n",
              "    <tr>\n",
              "      <th>4</th>\n",
              "      <td>57</td>\n",
              "      <td>0</td>\n",
              "      <td>0</td>\n",
              "      <td>120</td>\n",
              "      <td>354</td>\n",
              "      <td>0</td>\n",
              "      <td>1</td>\n",
              "      <td>163</td>\n",
              "      <td>1</td>\n",
              "      <td>0.6</td>\n",
              "      <td>2</td>\n",
              "      <td>0</td>\n",
              "      <td>2</td>\n",
              "      <td>1</td>\n",
              "    </tr>\n",
              "  </tbody>\n",
              "</table>\n",
              "</div>\n",
              "      <button class=\"colab-df-convert\" onclick=\"convertToInteractive('df-acd471c5-6b62-45d6-83ec-e9cc4d74e8b5')\"\n",
              "              title=\"Convert this dataframe to an interactive table.\"\n",
              "              style=\"display:none;\">\n",
              "        \n",
              "  <svg xmlns=\"http://www.w3.org/2000/svg\" height=\"24px\"viewBox=\"0 0 24 24\"\n",
              "       width=\"24px\">\n",
              "    <path d=\"M0 0h24v24H0V0z\" fill=\"none\"/>\n",
              "    <path d=\"M18.56 5.44l.94 2.06.94-2.06 2.06-.94-2.06-.94-.94-2.06-.94 2.06-2.06.94zm-11 1L8.5 8.5l.94-2.06 2.06-.94-2.06-.94L8.5 2.5l-.94 2.06-2.06.94zm10 10l.94 2.06.94-2.06 2.06-.94-2.06-.94-.94-2.06-.94 2.06-2.06.94z\"/><path d=\"M17.41 7.96l-1.37-1.37c-.4-.4-.92-.59-1.43-.59-.52 0-1.04.2-1.43.59L10.3 9.45l-7.72 7.72c-.78.78-.78 2.05 0 2.83L4 21.41c.39.39.9.59 1.41.59.51 0 1.02-.2 1.41-.59l7.78-7.78 2.81-2.81c.8-.78.8-2.07 0-2.86zM5.41 20L4 18.59l7.72-7.72 1.47 1.35L5.41 20z\"/>\n",
              "  </svg>\n",
              "      </button>\n",
              "      \n",
              "  <style>\n",
              "    .colab-df-container {\n",
              "      display:flex;\n",
              "      flex-wrap:wrap;\n",
              "      gap: 12px;\n",
              "    }\n",
              "\n",
              "    .colab-df-convert {\n",
              "      background-color: #E8F0FE;\n",
              "      border: none;\n",
              "      border-radius: 50%;\n",
              "      cursor: pointer;\n",
              "      display: none;\n",
              "      fill: #1967D2;\n",
              "      height: 32px;\n",
              "      padding: 0 0 0 0;\n",
              "      width: 32px;\n",
              "    }\n",
              "\n",
              "    .colab-df-convert:hover {\n",
              "      background-color: #E2EBFA;\n",
              "      box-shadow: 0px 1px 2px rgba(60, 64, 67, 0.3), 0px 1px 3px 1px rgba(60, 64, 67, 0.15);\n",
              "      fill: #174EA6;\n",
              "    }\n",
              "\n",
              "    [theme=dark] .colab-df-convert {\n",
              "      background-color: #3B4455;\n",
              "      fill: #D2E3FC;\n",
              "    }\n",
              "\n",
              "    [theme=dark] .colab-df-convert:hover {\n",
              "      background-color: #434B5C;\n",
              "      box-shadow: 0px 1px 3px 1px rgba(0, 0, 0, 0.15);\n",
              "      filter: drop-shadow(0px 1px 2px rgba(0, 0, 0, 0.3));\n",
              "      fill: #FFFFFF;\n",
              "    }\n",
              "  </style>\n",
              "\n",
              "      <script>\n",
              "        const buttonEl =\n",
              "          document.querySelector('#df-acd471c5-6b62-45d6-83ec-e9cc4d74e8b5 button.colab-df-convert');\n",
              "        buttonEl.style.display =\n",
              "          google.colab.kernel.accessAllowed ? 'block' : 'none';\n",
              "\n",
              "        async function convertToInteractive(key) {\n",
              "          const element = document.querySelector('#df-acd471c5-6b62-45d6-83ec-e9cc4d74e8b5');\n",
              "          const dataTable =\n",
              "            await google.colab.kernel.invokeFunction('convertToInteractive',\n",
              "                                                     [key], {});\n",
              "          if (!dataTable) return;\n",
              "\n",
              "          const docLinkHtml = 'Like what you see? Visit the ' +\n",
              "            '<a target=\"_blank\" href=https://colab.research.google.com/notebooks/data_table.ipynb>data table notebook</a>'\n",
              "            + ' to learn more about interactive tables.';\n",
              "          element.innerHTML = '';\n",
              "          dataTable['output_type'] = 'display_data';\n",
              "          await google.colab.output.renderOutput(dataTable, element);\n",
              "          const docLink = document.createElement('div');\n",
              "          docLink.innerHTML = docLinkHtml;\n",
              "          element.appendChild(docLink);\n",
              "        }\n",
              "      </script>\n",
              "    </div>\n",
              "  </div>\n",
              "  "
            ]
          },
          "metadata": {},
          "execution_count": 4
        }
      ]
    },
    {
      "cell_type": "markdown",
      "source": [
        "Modificando nome das colunas/ *Modifying features names/*"
      ],
      "metadata": {
        "id": "Tk5pTtS6xCW_"
      }
    },
    {
      "cell_type": "code",
      "source": [
        "df_heart = df_heart.rename(columns={'cp': 'tipo_de_dor', 'trtbps':'pres_art_repous', 'chol':'colest', 'fbs':'acuc_sang_jejum', \\\n",
        "                         'restecg':'eletrc_desc', 'thalachh':'max_frq_card', 'exng':'ang_indz_exerc', 'oldpeak':'ST_indz_exerc', \\\n",
        "                         'slp':'pico_ST_exerc', 'caa':'num_vasos', 'thall':'talassemia'})\n",
        "# removendo linha duplicada/ Drop duplicates rows\n",
        "df_heart = df_heart.drop_duplicates()"
      ],
      "metadata": {
        "id": "RF36huV6VG4n"
      },
      "execution_count": 3,
      "outputs": []
    },
    {
      "cell_type": "code",
      "source": [
        "df_heart.info()"
      ],
      "metadata": {
        "id": "Q_KsKbVKhwtz",
        "colab": {
          "base_uri": "https://localhost:8080/"
        },
        "outputId": "df73b413-da70-4591-cf9b-bb0511dff6f5"
      },
      "execution_count": null,
      "outputs": [
        {
          "output_type": "stream",
          "name": "stdout",
          "text": [
            "<class 'pandas.core.frame.DataFrame'>\n",
            "Int64Index: 302 entries, 0 to 302\n",
            "Data columns (total 14 columns):\n",
            " #   Column           Non-Null Count  Dtype  \n",
            "---  ------           --------------  -----  \n",
            " 0   age              302 non-null    int64  \n",
            " 1   sex              302 non-null    int64  \n",
            " 2   tipo_de_dor      302 non-null    int64  \n",
            " 3   pres_art_repous  302 non-null    int64  \n",
            " 4   colest           302 non-null    int64  \n",
            " 5   acuc_sang_jejum  302 non-null    int64  \n",
            " 6   eletrc_desc      302 non-null    int64  \n",
            " 7   max_frq_card     302 non-null    int64  \n",
            " 8   ang_indz_exerc   302 non-null    int64  \n",
            " 9   ST_indz_exerc    302 non-null    float64\n",
            " 10  pico_ST_exerc    302 non-null    int64  \n",
            " 11  num_vasos        302 non-null    int64  \n",
            " 12  talassemia       302 non-null    int64  \n",
            " 13  output           302 non-null    int64  \n",
            "dtypes: float64(1), int64(13)\n",
            "memory usage: 35.4 KB\n"
          ]
        }
      ]
    },
    {
      "cell_type": "markdown",
      "source": [
        "Dataset não contém valores nulos e todos os valores são numéricos. Atenção as colunas que contém valores categóricos, já como numéricos.<br>\n",
        "\n",
        "*Dataset does not contain null values and all values are numeric. Pay attention to the columns that contain categorical values, as numeric values.*"
      ],
      "metadata": {
        "id": "GBMYDK36h2gP"
      }
    },
    {
      "cell_type": "code",
      "source": [
        "df_heart.describe().T"
      ],
      "metadata": {
        "id": "Qb4I5zQ1ib5E",
        "colab": {
          "base_uri": "https://localhost:8080/",
          "height": 488
        },
        "outputId": "f45477be-bbbf-4a63-c6a5-169874a7ebb0"
      },
      "execution_count": null,
      "outputs": [
        {
          "output_type": "execute_result",
          "data": {
            "text/plain": [
              "                 count        mean        std    min     25%    50%     75%  \\\n",
              "age              302.0   54.420530   9.047970   29.0   48.00   55.5   61.00   \n",
              "sex              302.0    0.682119   0.466426    0.0    0.00    1.0    1.00   \n",
              "tipo_de_dor      302.0    0.963576   1.032044    0.0    0.00    1.0    2.00   \n",
              "pres_art_repous  302.0  131.602649  17.563394   94.0  120.00  130.0  140.00   \n",
              "colest           302.0  246.500000  51.753489  126.0  211.00  240.5  274.75   \n",
              "acuc_sang_jejum  302.0    0.149007   0.356686    0.0    0.00    0.0    0.00   \n",
              "eletrc_desc      302.0    0.526490   0.526027    0.0    0.00    1.0    1.00   \n",
              "max_frq_card     302.0  149.569536  22.903527   71.0  133.25  152.5  166.00   \n",
              "ang_indz_exerc   302.0    0.327815   0.470196    0.0    0.00    0.0    1.00   \n",
              "ST_indz_exerc    302.0    1.043046   1.161452    0.0    0.00    0.8    1.60   \n",
              "pico_ST_exerc    302.0    1.397351   0.616274    0.0    1.00    1.0    2.00   \n",
              "num_vasos        302.0    0.718543   1.006748    0.0    0.00    0.0    1.00   \n",
              "talassemia       302.0    2.314570   0.613026    0.0    2.00    2.0    3.00   \n",
              "output           302.0    0.543046   0.498970    0.0    0.00    1.0    1.00   \n",
              "\n",
              "                   max  \n",
              "age               77.0  \n",
              "sex                1.0  \n",
              "tipo_de_dor        3.0  \n",
              "pres_art_repous  200.0  \n",
              "colest           564.0  \n",
              "acuc_sang_jejum    1.0  \n",
              "eletrc_desc        2.0  \n",
              "max_frq_card     202.0  \n",
              "ang_indz_exerc     1.0  \n",
              "ST_indz_exerc      6.2  \n",
              "pico_ST_exerc      2.0  \n",
              "num_vasos          4.0  \n",
              "talassemia         3.0  \n",
              "output             1.0  "
            ],
            "text/html": [
              "\n",
              "  <div id=\"df-8e7fbb58-fd21-4b34-9820-e74b5c9d8019\">\n",
              "    <div class=\"colab-df-container\">\n",
              "      <div>\n",
              "<style scoped>\n",
              "    .dataframe tbody tr th:only-of-type {\n",
              "        vertical-align: middle;\n",
              "    }\n",
              "\n",
              "    .dataframe tbody tr th {\n",
              "        vertical-align: top;\n",
              "    }\n",
              "\n",
              "    .dataframe thead th {\n",
              "        text-align: right;\n",
              "    }\n",
              "</style>\n",
              "<table border=\"1\" class=\"dataframe\">\n",
              "  <thead>\n",
              "    <tr style=\"text-align: right;\">\n",
              "      <th></th>\n",
              "      <th>count</th>\n",
              "      <th>mean</th>\n",
              "      <th>std</th>\n",
              "      <th>min</th>\n",
              "      <th>25%</th>\n",
              "      <th>50%</th>\n",
              "      <th>75%</th>\n",
              "      <th>max</th>\n",
              "    </tr>\n",
              "  </thead>\n",
              "  <tbody>\n",
              "    <tr>\n",
              "      <th>age</th>\n",
              "      <td>302.0</td>\n",
              "      <td>54.420530</td>\n",
              "      <td>9.047970</td>\n",
              "      <td>29.0</td>\n",
              "      <td>48.00</td>\n",
              "      <td>55.5</td>\n",
              "      <td>61.00</td>\n",
              "      <td>77.0</td>\n",
              "    </tr>\n",
              "    <tr>\n",
              "      <th>sex</th>\n",
              "      <td>302.0</td>\n",
              "      <td>0.682119</td>\n",
              "      <td>0.466426</td>\n",
              "      <td>0.0</td>\n",
              "      <td>0.00</td>\n",
              "      <td>1.0</td>\n",
              "      <td>1.00</td>\n",
              "      <td>1.0</td>\n",
              "    </tr>\n",
              "    <tr>\n",
              "      <th>tipo_de_dor</th>\n",
              "      <td>302.0</td>\n",
              "      <td>0.963576</td>\n",
              "      <td>1.032044</td>\n",
              "      <td>0.0</td>\n",
              "      <td>0.00</td>\n",
              "      <td>1.0</td>\n",
              "      <td>2.00</td>\n",
              "      <td>3.0</td>\n",
              "    </tr>\n",
              "    <tr>\n",
              "      <th>pres_art_repous</th>\n",
              "      <td>302.0</td>\n",
              "      <td>131.602649</td>\n",
              "      <td>17.563394</td>\n",
              "      <td>94.0</td>\n",
              "      <td>120.00</td>\n",
              "      <td>130.0</td>\n",
              "      <td>140.00</td>\n",
              "      <td>200.0</td>\n",
              "    </tr>\n",
              "    <tr>\n",
              "      <th>colest</th>\n",
              "      <td>302.0</td>\n",
              "      <td>246.500000</td>\n",
              "      <td>51.753489</td>\n",
              "      <td>126.0</td>\n",
              "      <td>211.00</td>\n",
              "      <td>240.5</td>\n",
              "      <td>274.75</td>\n",
              "      <td>564.0</td>\n",
              "    </tr>\n",
              "    <tr>\n",
              "      <th>acuc_sang_jejum</th>\n",
              "      <td>302.0</td>\n",
              "      <td>0.149007</td>\n",
              "      <td>0.356686</td>\n",
              "      <td>0.0</td>\n",
              "      <td>0.00</td>\n",
              "      <td>0.0</td>\n",
              "      <td>0.00</td>\n",
              "      <td>1.0</td>\n",
              "    </tr>\n",
              "    <tr>\n",
              "      <th>eletrc_desc</th>\n",
              "      <td>302.0</td>\n",
              "      <td>0.526490</td>\n",
              "      <td>0.526027</td>\n",
              "      <td>0.0</td>\n",
              "      <td>0.00</td>\n",
              "      <td>1.0</td>\n",
              "      <td>1.00</td>\n",
              "      <td>2.0</td>\n",
              "    </tr>\n",
              "    <tr>\n",
              "      <th>max_frq_card</th>\n",
              "      <td>302.0</td>\n",
              "      <td>149.569536</td>\n",
              "      <td>22.903527</td>\n",
              "      <td>71.0</td>\n",
              "      <td>133.25</td>\n",
              "      <td>152.5</td>\n",
              "      <td>166.00</td>\n",
              "      <td>202.0</td>\n",
              "    </tr>\n",
              "    <tr>\n",
              "      <th>ang_indz_exerc</th>\n",
              "      <td>302.0</td>\n",
              "      <td>0.327815</td>\n",
              "      <td>0.470196</td>\n",
              "      <td>0.0</td>\n",
              "      <td>0.00</td>\n",
              "      <td>0.0</td>\n",
              "      <td>1.00</td>\n",
              "      <td>1.0</td>\n",
              "    </tr>\n",
              "    <tr>\n",
              "      <th>ST_indz_exerc</th>\n",
              "      <td>302.0</td>\n",
              "      <td>1.043046</td>\n",
              "      <td>1.161452</td>\n",
              "      <td>0.0</td>\n",
              "      <td>0.00</td>\n",
              "      <td>0.8</td>\n",
              "      <td>1.60</td>\n",
              "      <td>6.2</td>\n",
              "    </tr>\n",
              "    <tr>\n",
              "      <th>pico_ST_exerc</th>\n",
              "      <td>302.0</td>\n",
              "      <td>1.397351</td>\n",
              "      <td>0.616274</td>\n",
              "      <td>0.0</td>\n",
              "      <td>1.00</td>\n",
              "      <td>1.0</td>\n",
              "      <td>2.00</td>\n",
              "      <td>2.0</td>\n",
              "    </tr>\n",
              "    <tr>\n",
              "      <th>num_vasos</th>\n",
              "      <td>302.0</td>\n",
              "      <td>0.718543</td>\n",
              "      <td>1.006748</td>\n",
              "      <td>0.0</td>\n",
              "      <td>0.00</td>\n",
              "      <td>0.0</td>\n",
              "      <td>1.00</td>\n",
              "      <td>4.0</td>\n",
              "    </tr>\n",
              "    <tr>\n",
              "      <th>talassemia</th>\n",
              "      <td>302.0</td>\n",
              "      <td>2.314570</td>\n",
              "      <td>0.613026</td>\n",
              "      <td>0.0</td>\n",
              "      <td>2.00</td>\n",
              "      <td>2.0</td>\n",
              "      <td>3.00</td>\n",
              "      <td>3.0</td>\n",
              "    </tr>\n",
              "    <tr>\n",
              "      <th>output</th>\n",
              "      <td>302.0</td>\n",
              "      <td>0.543046</td>\n",
              "      <td>0.498970</td>\n",
              "      <td>0.0</td>\n",
              "      <td>0.00</td>\n",
              "      <td>1.0</td>\n",
              "      <td>1.00</td>\n",
              "      <td>1.0</td>\n",
              "    </tr>\n",
              "  </tbody>\n",
              "</table>\n",
              "</div>\n",
              "      <button class=\"colab-df-convert\" onclick=\"convertToInteractive('df-8e7fbb58-fd21-4b34-9820-e74b5c9d8019')\"\n",
              "              title=\"Convert this dataframe to an interactive table.\"\n",
              "              style=\"display:none;\">\n",
              "        \n",
              "  <svg xmlns=\"http://www.w3.org/2000/svg\" height=\"24px\"viewBox=\"0 0 24 24\"\n",
              "       width=\"24px\">\n",
              "    <path d=\"M0 0h24v24H0V0z\" fill=\"none\"/>\n",
              "    <path d=\"M18.56 5.44l.94 2.06.94-2.06 2.06-.94-2.06-.94-.94-2.06-.94 2.06-2.06.94zm-11 1L8.5 8.5l.94-2.06 2.06-.94-2.06-.94L8.5 2.5l-.94 2.06-2.06.94zm10 10l.94 2.06.94-2.06 2.06-.94-2.06-.94-.94-2.06-.94 2.06-2.06.94z\"/><path d=\"M17.41 7.96l-1.37-1.37c-.4-.4-.92-.59-1.43-.59-.52 0-1.04.2-1.43.59L10.3 9.45l-7.72 7.72c-.78.78-.78 2.05 0 2.83L4 21.41c.39.39.9.59 1.41.59.51 0 1.02-.2 1.41-.59l7.78-7.78 2.81-2.81c.8-.78.8-2.07 0-2.86zM5.41 20L4 18.59l7.72-7.72 1.47 1.35L5.41 20z\"/>\n",
              "  </svg>\n",
              "      </button>\n",
              "      \n",
              "  <style>\n",
              "    .colab-df-container {\n",
              "      display:flex;\n",
              "      flex-wrap:wrap;\n",
              "      gap: 12px;\n",
              "    }\n",
              "\n",
              "    .colab-df-convert {\n",
              "      background-color: #E8F0FE;\n",
              "      border: none;\n",
              "      border-radius: 50%;\n",
              "      cursor: pointer;\n",
              "      display: none;\n",
              "      fill: #1967D2;\n",
              "      height: 32px;\n",
              "      padding: 0 0 0 0;\n",
              "      width: 32px;\n",
              "    }\n",
              "\n",
              "    .colab-df-convert:hover {\n",
              "      background-color: #E2EBFA;\n",
              "      box-shadow: 0px 1px 2px rgba(60, 64, 67, 0.3), 0px 1px 3px 1px rgba(60, 64, 67, 0.15);\n",
              "      fill: #174EA6;\n",
              "    }\n",
              "\n",
              "    [theme=dark] .colab-df-convert {\n",
              "      background-color: #3B4455;\n",
              "      fill: #D2E3FC;\n",
              "    }\n",
              "\n",
              "    [theme=dark] .colab-df-convert:hover {\n",
              "      background-color: #434B5C;\n",
              "      box-shadow: 0px 1px 3px 1px rgba(0, 0, 0, 0.15);\n",
              "      filter: drop-shadow(0px 1px 2px rgba(0, 0, 0, 0.3));\n",
              "      fill: #FFFFFF;\n",
              "    }\n",
              "  </style>\n",
              "\n",
              "      <script>\n",
              "        const buttonEl =\n",
              "          document.querySelector('#df-8e7fbb58-fd21-4b34-9820-e74b5c9d8019 button.colab-df-convert');\n",
              "        buttonEl.style.display =\n",
              "          google.colab.kernel.accessAllowed ? 'block' : 'none';\n",
              "\n",
              "        async function convertToInteractive(key) {\n",
              "          const element = document.querySelector('#df-8e7fbb58-fd21-4b34-9820-e74b5c9d8019');\n",
              "          const dataTable =\n",
              "            await google.colab.kernel.invokeFunction('convertToInteractive',\n",
              "                                                     [key], {});\n",
              "          if (!dataTable) return;\n",
              "\n",
              "          const docLinkHtml = 'Like what you see? Visit the ' +\n",
              "            '<a target=\"_blank\" href=https://colab.research.google.com/notebooks/data_table.ipynb>data table notebook</a>'\n",
              "            + ' to learn more about interactive tables.';\n",
              "          element.innerHTML = '';\n",
              "          dataTable['output_type'] = 'display_data';\n",
              "          await google.colab.output.renderOutput(dataTable, element);\n",
              "          const docLink = document.createElement('div');\n",
              "          docLink.innerHTML = docLinkHtml;\n",
              "          element.appendChild(docLink);\n",
              "        }\n",
              "      </script>\n",
              "    </div>\n",
              "  </div>\n",
              "  "
            ]
          },
          "metadata": {},
          "execution_count": 7
        }
      ]
    },
    {
      "cell_type": "markdown",
      "source": [
        "#### 1.2.2 Análise Univariada / *univariate analysis*"
      ],
      "metadata": {
        "id": "vtFEPS02z952"
      }
    },
    {
      "cell_type": "markdown",
      "source": [
        "##### Plotly"
      ],
      "metadata": {
        "id": "bzbH6Zerzimn"
      }
    },
    {
      "cell_type": "markdown",
      "source": [
        "Convertendo as varáveis categóricas em Object para ver a descrição no dataset sobre estas <br>\n",
        "\n",
        "*Converting categorical variables into Object to see the description in the dataset about these*\n"
      ],
      "metadata": {
        "id": "ocubJGjvtLt6"
      }
    },
    {
      "cell_type": "code",
      "source": [
        "num = ['age', 'pres_art_repous', 'colest', 'max_frq_card', 'ST_indz_exerc']\n",
        "cat = ['sex', 'tipo_de_dor', 'ang_indz_exerc', 'num_vasos', 'acuc_sang_jejum', 'eletrc_desc', 'pico_ST_exerc', 'talassemia', 'output']"
      ],
      "metadata": {
        "id": "RUQEfnv-l2_T"
      },
      "execution_count": null,
      "outputs": []
    },
    {
      "cell_type": "code",
      "source": [
        "df_heart_cat = pd.DataFrame(df_heart).copy()\n",
        "df_heart_cat[cat] = df_heart_cat[cat].astype(str)"
      ],
      "metadata": {
        "id": "is_ok1exopsX"
      },
      "execution_count": null,
      "outputs": []
    },
    {
      "cell_type": "code",
      "source": [
        "table_cat = ff.create_table(df_heart_cat.describe(include=['O']).T, index=True, index_title='Categorical columns')\n",
        "for i in range(len(table_cat.layout.annotations)):\n",
        "    table_cat.layout.annotations[i].font.size = 9\n",
        "    \n",
        "table_cat.update_layout(\n",
        "    title_text = 'Statistics of the categorical columns',\n",
        "    margin = {'t':50},\n",
        "    template= \"plotly_dark\"\n",
        ")\n",
        "    \n",
        "table_cat.show()"
      ],
      "metadata": {
        "id": "z5DpiBNQlIrX",
        "colab": {
          "base_uri": "https://localhost:8080/",
          "height": 367
        },
        "outputId": "ae3a5015-d295-497d-8929-392b7c00afd0"
      },
      "execution_count": null,
      "outputs": [
        {
          "output_type": "display_data",
          "data": {
            "text/html": [
              "<html>\n",
              "<head><meta charset=\"utf-8\" /></head>\n",
              "<body>\n",
              "    <div>            <script src=\"https://cdnjs.cloudflare.com/ajax/libs/mathjax/2.7.5/MathJax.js?config=TeX-AMS-MML_SVG\"></script><script type=\"text/javascript\">if (window.MathJax) {MathJax.Hub.Config({SVG: {font: \"STIX-Web\"}});}</script>                <script type=\"text/javascript\">window.PlotlyConfig = {MathJaxConfig: 'local'};</script>\n",
              "        <script src=\"https://cdn.plot.ly/plotly-2.8.3.min.js\"></script>                <div id=\"25d6915f-81d2-427b-92ca-970d89457925\" class=\"plotly-graph-div\" style=\"height:350px; width:100%;\"></div>            <script type=\"text/javascript\">                                    window.PLOTLYENV=window.PLOTLYENV || {};                                    if (document.getElementById(\"25d6915f-81d2-427b-92ca-970d89457925\")) {                    Plotly.newPlot(                        \"25d6915f-81d2-427b-92ca-970d89457925\",                        [{\"colorscale\":[[0,\"#00083e\"],[0.5,\"#ededee\"],[1,\"#ffffff\"]],\"hoverinfo\":\"none\",\"opacity\":0.75,\"showscale\":false,\"z\":[[0,0,0,0,0],[0,0.5,0.5,0.5,0.5],[0,1,1,1,1],[0,0.5,0.5,0.5,0.5],[0,1,1,1,1],[0,0.5,0.5,0.5,0.5],[0,1,1,1,1],[0,0.5,0.5,0.5,0.5],[0,1,1,1,1],[0,0.5,0.5,0.5,0.5]],\"type\":\"heatmap\"}],                        {\"annotations\":[{\"align\":\"left\",\"font\":{\"color\":\"#ffffff\",\"size\":9},\"showarrow\":false,\"text\":\"<b>Categorical columns</b>\",\"x\":-0.45,\"xanchor\":\"left\",\"xref\":\"x\",\"y\":0,\"yref\":\"y\"},{\"align\":\"left\",\"font\":{\"color\":\"#ffffff\",\"size\":9},\"showarrow\":false,\"text\":\"<b>count</b>\",\"x\":0.55,\"xanchor\":\"left\",\"xref\":\"x\",\"y\":0,\"yref\":\"y\"},{\"align\":\"left\",\"font\":{\"color\":\"#ffffff\",\"size\":9},\"showarrow\":false,\"text\":\"<b>unique</b>\",\"x\":1.55,\"xanchor\":\"left\",\"xref\":\"x\",\"y\":0,\"yref\":\"y\"},{\"align\":\"left\",\"font\":{\"color\":\"#ffffff\",\"size\":9},\"showarrow\":false,\"text\":\"<b>top</b>\",\"x\":2.55,\"xanchor\":\"left\",\"xref\":\"x\",\"y\":0,\"yref\":\"y\"},{\"align\":\"left\",\"font\":{\"color\":\"#ffffff\",\"size\":9},\"showarrow\":false,\"text\":\"<b>freq</b>\",\"x\":3.55,\"xanchor\":\"left\",\"xref\":\"x\",\"y\":0,\"yref\":\"y\"},{\"align\":\"left\",\"font\":{\"color\":\"#ffffff\",\"size\":9},\"showarrow\":false,\"text\":\"<b>sex</b>\",\"x\":-0.45,\"xanchor\":\"left\",\"xref\":\"x\",\"y\":1,\"yref\":\"y\"},{\"align\":\"left\",\"font\":{\"color\":\"#000000\",\"size\":9},\"showarrow\":false,\"text\":\"302\",\"x\":0.55,\"xanchor\":\"left\",\"xref\":\"x\",\"y\":1,\"yref\":\"y\"},{\"align\":\"left\",\"font\":{\"color\":\"#000000\",\"size\":9},\"showarrow\":false,\"text\":\"2\",\"x\":1.55,\"xanchor\":\"left\",\"xref\":\"x\",\"y\":1,\"yref\":\"y\"},{\"align\":\"left\",\"font\":{\"color\":\"#000000\",\"size\":9},\"showarrow\":false,\"text\":\"1\",\"x\":2.55,\"xanchor\":\"left\",\"xref\":\"x\",\"y\":1,\"yref\":\"y\"},{\"align\":\"left\",\"font\":{\"color\":\"#000000\",\"size\":9},\"showarrow\":false,\"text\":\"206\",\"x\":3.55,\"xanchor\":\"left\",\"xref\":\"x\",\"y\":1,\"yref\":\"y\"},{\"align\":\"left\",\"font\":{\"color\":\"#ffffff\",\"size\":9},\"showarrow\":false,\"text\":\"<b>tipo_de_dor</b>\",\"x\":-0.45,\"xanchor\":\"left\",\"xref\":\"x\",\"y\":2,\"yref\":\"y\"},{\"align\":\"left\",\"font\":{\"color\":\"#000000\",\"size\":9},\"showarrow\":false,\"text\":\"302\",\"x\":0.55,\"xanchor\":\"left\",\"xref\":\"x\",\"y\":2,\"yref\":\"y\"},{\"align\":\"left\",\"font\":{\"color\":\"#000000\",\"size\":9},\"showarrow\":false,\"text\":\"4\",\"x\":1.55,\"xanchor\":\"left\",\"xref\":\"x\",\"y\":2,\"yref\":\"y\"},{\"align\":\"left\",\"font\":{\"color\":\"#000000\",\"size\":9},\"showarrow\":false,\"text\":\"0\",\"x\":2.55,\"xanchor\":\"left\",\"xref\":\"x\",\"y\":2,\"yref\":\"y\"},{\"align\":\"left\",\"font\":{\"color\":\"#000000\",\"size\":9},\"showarrow\":false,\"text\":\"143\",\"x\":3.55,\"xanchor\":\"left\",\"xref\":\"x\",\"y\":2,\"yref\":\"y\"},{\"align\":\"left\",\"font\":{\"color\":\"#ffffff\",\"size\":9},\"showarrow\":false,\"text\":\"<b>acuc_sang_jejum</b>\",\"x\":-0.45,\"xanchor\":\"left\",\"xref\":\"x\",\"y\":3,\"yref\":\"y\"},{\"align\":\"left\",\"font\":{\"color\":\"#000000\",\"size\":9},\"showarrow\":false,\"text\":\"302\",\"x\":0.55,\"xanchor\":\"left\",\"xref\":\"x\",\"y\":3,\"yref\":\"y\"},{\"align\":\"left\",\"font\":{\"color\":\"#000000\",\"size\":9},\"showarrow\":false,\"text\":\"2\",\"x\":1.55,\"xanchor\":\"left\",\"xref\":\"x\",\"y\":3,\"yref\":\"y\"},{\"align\":\"left\",\"font\":{\"color\":\"#000000\",\"size\":9},\"showarrow\":false,\"text\":\"0\",\"x\":2.55,\"xanchor\":\"left\",\"xref\":\"x\",\"y\":3,\"yref\":\"y\"},{\"align\":\"left\",\"font\":{\"color\":\"#000000\",\"size\":9},\"showarrow\":false,\"text\":\"257\",\"x\":3.55,\"xanchor\":\"left\",\"xref\":\"x\",\"y\":3,\"yref\":\"y\"},{\"align\":\"left\",\"font\":{\"color\":\"#ffffff\",\"size\":9},\"showarrow\":false,\"text\":\"<b>eletrc_desc</b>\",\"x\":-0.45,\"xanchor\":\"left\",\"xref\":\"x\",\"y\":4,\"yref\":\"y\"},{\"align\":\"left\",\"font\":{\"color\":\"#000000\",\"size\":9},\"showarrow\":false,\"text\":\"302\",\"x\":0.55,\"xanchor\":\"left\",\"xref\":\"x\",\"y\":4,\"yref\":\"y\"},{\"align\":\"left\",\"font\":{\"color\":\"#000000\",\"size\":9},\"showarrow\":false,\"text\":\"3\",\"x\":1.55,\"xanchor\":\"left\",\"xref\":\"x\",\"y\":4,\"yref\":\"y\"},{\"align\":\"left\",\"font\":{\"color\":\"#000000\",\"size\":9},\"showarrow\":false,\"text\":\"1\",\"x\":2.55,\"xanchor\":\"left\",\"xref\":\"x\",\"y\":4,\"yref\":\"y\"},{\"align\":\"left\",\"font\":{\"color\":\"#000000\",\"size\":9},\"showarrow\":false,\"text\":\"151\",\"x\":3.55,\"xanchor\":\"left\",\"xref\":\"x\",\"y\":4,\"yref\":\"y\"},{\"align\":\"left\",\"font\":{\"color\":\"#ffffff\",\"size\":9},\"showarrow\":false,\"text\":\"<b>ang_indz_exerc</b>\",\"x\":-0.45,\"xanchor\":\"left\",\"xref\":\"x\",\"y\":5,\"yref\":\"y\"},{\"align\":\"left\",\"font\":{\"color\":\"#000000\",\"size\":9},\"showarrow\":false,\"text\":\"302\",\"x\":0.55,\"xanchor\":\"left\",\"xref\":\"x\",\"y\":5,\"yref\":\"y\"},{\"align\":\"left\",\"font\":{\"color\":\"#000000\",\"size\":9},\"showarrow\":false,\"text\":\"2\",\"x\":1.55,\"xanchor\":\"left\",\"xref\":\"x\",\"y\":5,\"yref\":\"y\"},{\"align\":\"left\",\"font\":{\"color\":\"#000000\",\"size\":9},\"showarrow\":false,\"text\":\"0\",\"x\":2.55,\"xanchor\":\"left\",\"xref\":\"x\",\"y\":5,\"yref\":\"y\"},{\"align\":\"left\",\"font\":{\"color\":\"#000000\",\"size\":9},\"showarrow\":false,\"text\":\"203\",\"x\":3.55,\"xanchor\":\"left\",\"xref\":\"x\",\"y\":5,\"yref\":\"y\"},{\"align\":\"left\",\"font\":{\"color\":\"#ffffff\",\"size\":9},\"showarrow\":false,\"text\":\"<b>pico_ST_exerc</b>\",\"x\":-0.45,\"xanchor\":\"left\",\"xref\":\"x\",\"y\":6,\"yref\":\"y\"},{\"align\":\"left\",\"font\":{\"color\":\"#000000\",\"size\":9},\"showarrow\":false,\"text\":\"302\",\"x\":0.55,\"xanchor\":\"left\",\"xref\":\"x\",\"y\":6,\"yref\":\"y\"},{\"align\":\"left\",\"font\":{\"color\":\"#000000\",\"size\":9},\"showarrow\":false,\"text\":\"3\",\"x\":1.55,\"xanchor\":\"left\",\"xref\":\"x\",\"y\":6,\"yref\":\"y\"},{\"align\":\"left\",\"font\":{\"color\":\"#000000\",\"size\":9},\"showarrow\":false,\"text\":\"2\",\"x\":2.55,\"xanchor\":\"left\",\"xref\":\"x\",\"y\":6,\"yref\":\"y\"},{\"align\":\"left\",\"font\":{\"color\":\"#000000\",\"size\":9},\"showarrow\":false,\"text\":\"141\",\"x\":3.55,\"xanchor\":\"left\",\"xref\":\"x\",\"y\":6,\"yref\":\"y\"},{\"align\":\"left\",\"font\":{\"color\":\"#ffffff\",\"size\":9},\"showarrow\":false,\"text\":\"<b>num_vasos</b>\",\"x\":-0.45,\"xanchor\":\"left\",\"xref\":\"x\",\"y\":7,\"yref\":\"y\"},{\"align\":\"left\",\"font\":{\"color\":\"#000000\",\"size\":9},\"showarrow\":false,\"text\":\"302\",\"x\":0.55,\"xanchor\":\"left\",\"xref\":\"x\",\"y\":7,\"yref\":\"y\"},{\"align\":\"left\",\"font\":{\"color\":\"#000000\",\"size\":9},\"showarrow\":false,\"text\":\"5\",\"x\":1.55,\"xanchor\":\"left\",\"xref\":\"x\",\"y\":7,\"yref\":\"y\"},{\"align\":\"left\",\"font\":{\"color\":\"#000000\",\"size\":9},\"showarrow\":false,\"text\":\"0\",\"x\":2.55,\"xanchor\":\"left\",\"xref\":\"x\",\"y\":7,\"yref\":\"y\"},{\"align\":\"left\",\"font\":{\"color\":\"#000000\",\"size\":9},\"showarrow\":false,\"text\":\"175\",\"x\":3.55,\"xanchor\":\"left\",\"xref\":\"x\",\"y\":7,\"yref\":\"y\"},{\"align\":\"left\",\"font\":{\"color\":\"#ffffff\",\"size\":9},\"showarrow\":false,\"text\":\"<b>talassemia</b>\",\"x\":-0.45,\"xanchor\":\"left\",\"xref\":\"x\",\"y\":8,\"yref\":\"y\"},{\"align\":\"left\",\"font\":{\"color\":\"#000000\",\"size\":9},\"showarrow\":false,\"text\":\"302\",\"x\":0.55,\"xanchor\":\"left\",\"xref\":\"x\",\"y\":8,\"yref\":\"y\"},{\"align\":\"left\",\"font\":{\"color\":\"#000000\",\"size\":9},\"showarrow\":false,\"text\":\"4\",\"x\":1.55,\"xanchor\":\"left\",\"xref\":\"x\",\"y\":8,\"yref\":\"y\"},{\"align\":\"left\",\"font\":{\"color\":\"#000000\",\"size\":9},\"showarrow\":false,\"text\":\"2\",\"x\":2.55,\"xanchor\":\"left\",\"xref\":\"x\",\"y\":8,\"yref\":\"y\"},{\"align\":\"left\",\"font\":{\"color\":\"#000000\",\"size\":9},\"showarrow\":false,\"text\":\"165\",\"x\":3.55,\"xanchor\":\"left\",\"xref\":\"x\",\"y\":8,\"yref\":\"y\"},{\"align\":\"left\",\"font\":{\"color\":\"#ffffff\",\"size\":9},\"showarrow\":false,\"text\":\"<b>output</b>\",\"x\":-0.45,\"xanchor\":\"left\",\"xref\":\"x\",\"y\":9,\"yref\":\"y\"},{\"align\":\"left\",\"font\":{\"color\":\"#000000\",\"size\":9},\"showarrow\":false,\"text\":\"302\",\"x\":0.55,\"xanchor\":\"left\",\"xref\":\"x\",\"y\":9,\"yref\":\"y\"},{\"align\":\"left\",\"font\":{\"color\":\"#000000\",\"size\":9},\"showarrow\":false,\"text\":\"2\",\"x\":1.55,\"xanchor\":\"left\",\"xref\":\"x\",\"y\":9,\"yref\":\"y\"},{\"align\":\"left\",\"font\":{\"color\":\"#000000\",\"size\":9},\"showarrow\":false,\"text\":\"1\",\"x\":2.55,\"xanchor\":\"left\",\"xref\":\"x\",\"y\":9,\"yref\":\"y\"},{\"align\":\"left\",\"font\":{\"color\":\"#000000\",\"size\":9},\"showarrow\":false,\"text\":\"164\",\"x\":3.55,\"xanchor\":\"left\",\"xref\":\"x\",\"y\":9,\"yref\":\"y\"}],\"height\":350,\"margin\":{\"b\":0,\"l\":0,\"r\":0,\"t\":50},\"xaxis\":{\"dtick\":1,\"gridwidth\":2,\"showticklabels\":false,\"tick0\":-0.5,\"ticks\":\"\",\"zeroline\":false},\"yaxis\":{\"autorange\":\"reversed\",\"dtick\":1,\"gridwidth\":2,\"showticklabels\":false,\"tick0\":0.5,\"ticks\":\"\",\"zeroline\":false},\"template\":{\"data\":{\"barpolar\":[{\"marker\":{\"line\":{\"color\":\"rgb(17,17,17)\",\"width\":0.5},\"pattern\":{\"fillmode\":\"overlay\",\"size\":10,\"solidity\":0.2}},\"type\":\"barpolar\"}],\"bar\":[{\"error_x\":{\"color\":\"#f2f5fa\"},\"error_y\":{\"color\":\"#f2f5fa\"},\"marker\":{\"line\":{\"color\":\"rgb(17,17,17)\",\"width\":0.5},\"pattern\":{\"fillmode\":\"overlay\",\"size\":10,\"solidity\":0.2}},\"type\":\"bar\"}],\"carpet\":[{\"aaxis\":{\"endlinecolor\":\"#A2B1C6\",\"gridcolor\":\"#506784\",\"linecolor\":\"#506784\",\"minorgridcolor\":\"#506784\",\"startlinecolor\":\"#A2B1C6\"},\"baxis\":{\"endlinecolor\":\"#A2B1C6\",\"gridcolor\":\"#506784\",\"linecolor\":\"#506784\",\"minorgridcolor\":\"#506784\",\"startlinecolor\":\"#A2B1C6\"},\"type\":\"carpet\"}],\"choropleth\":[{\"colorbar\":{\"outlinewidth\":0,\"ticks\":\"\"},\"type\":\"choropleth\"}],\"contourcarpet\":[{\"colorbar\":{\"outlinewidth\":0,\"ticks\":\"\"},\"type\":\"contourcarpet\"}],\"contour\":[{\"colorbar\":{\"outlinewidth\":0,\"ticks\":\"\"},\"colorscale\":[[0.0,\"#0d0887\"],[0.1111111111111111,\"#46039f\"],[0.2222222222222222,\"#7201a8\"],[0.3333333333333333,\"#9c179e\"],[0.4444444444444444,\"#bd3786\"],[0.5555555555555556,\"#d8576b\"],[0.6666666666666666,\"#ed7953\"],[0.7777777777777778,\"#fb9f3a\"],[0.8888888888888888,\"#fdca26\"],[1.0,\"#f0f921\"]],\"type\":\"contour\"}],\"heatmapgl\":[{\"colorbar\":{\"outlinewidth\":0,\"ticks\":\"\"},\"colorscale\":[[0.0,\"#0d0887\"],[0.1111111111111111,\"#46039f\"],[0.2222222222222222,\"#7201a8\"],[0.3333333333333333,\"#9c179e\"],[0.4444444444444444,\"#bd3786\"],[0.5555555555555556,\"#d8576b\"],[0.6666666666666666,\"#ed7953\"],[0.7777777777777778,\"#fb9f3a\"],[0.8888888888888888,\"#fdca26\"],[1.0,\"#f0f921\"]],\"type\":\"heatmapgl\"}],\"heatmap\":[{\"colorbar\":{\"outlinewidth\":0,\"ticks\":\"\"},\"colorscale\":[[0.0,\"#0d0887\"],[0.1111111111111111,\"#46039f\"],[0.2222222222222222,\"#7201a8\"],[0.3333333333333333,\"#9c179e\"],[0.4444444444444444,\"#bd3786\"],[0.5555555555555556,\"#d8576b\"],[0.6666666666666666,\"#ed7953\"],[0.7777777777777778,\"#fb9f3a\"],[0.8888888888888888,\"#fdca26\"],[1.0,\"#f0f921\"]],\"type\":\"heatmap\"}],\"histogram2dcontour\":[{\"colorbar\":{\"outlinewidth\":0,\"ticks\":\"\"},\"colorscale\":[[0.0,\"#0d0887\"],[0.1111111111111111,\"#46039f\"],[0.2222222222222222,\"#7201a8\"],[0.3333333333333333,\"#9c179e\"],[0.4444444444444444,\"#bd3786\"],[0.5555555555555556,\"#d8576b\"],[0.6666666666666666,\"#ed7953\"],[0.7777777777777778,\"#fb9f3a\"],[0.8888888888888888,\"#fdca26\"],[1.0,\"#f0f921\"]],\"type\":\"histogram2dcontour\"}],\"histogram2d\":[{\"colorbar\":{\"outlinewidth\":0,\"ticks\":\"\"},\"colorscale\":[[0.0,\"#0d0887\"],[0.1111111111111111,\"#46039f\"],[0.2222222222222222,\"#7201a8\"],[0.3333333333333333,\"#9c179e\"],[0.4444444444444444,\"#bd3786\"],[0.5555555555555556,\"#d8576b\"],[0.6666666666666666,\"#ed7953\"],[0.7777777777777778,\"#fb9f3a\"],[0.8888888888888888,\"#fdca26\"],[1.0,\"#f0f921\"]],\"type\":\"histogram2d\"}],\"histogram\":[{\"marker\":{\"pattern\":{\"fillmode\":\"overlay\",\"size\":10,\"solidity\":0.2}},\"type\":\"histogram\"}],\"mesh3d\":[{\"colorbar\":{\"outlinewidth\":0,\"ticks\":\"\"},\"type\":\"mesh3d\"}],\"parcoords\":[{\"line\":{\"colorbar\":{\"outlinewidth\":0,\"ticks\":\"\"}},\"type\":\"parcoords\"}],\"pie\":[{\"automargin\":true,\"type\":\"pie\"}],\"scatter3d\":[{\"line\":{\"colorbar\":{\"outlinewidth\":0,\"ticks\":\"\"}},\"marker\":{\"colorbar\":{\"outlinewidth\":0,\"ticks\":\"\"}},\"type\":\"scatter3d\"}],\"scattercarpet\":[{\"marker\":{\"colorbar\":{\"outlinewidth\":0,\"ticks\":\"\"}},\"type\":\"scattercarpet\"}],\"scattergeo\":[{\"marker\":{\"colorbar\":{\"outlinewidth\":0,\"ticks\":\"\"}},\"type\":\"scattergeo\"}],\"scattergl\":[{\"marker\":{\"line\":{\"color\":\"#283442\"}},\"type\":\"scattergl\"}],\"scattermapbox\":[{\"marker\":{\"colorbar\":{\"outlinewidth\":0,\"ticks\":\"\"}},\"type\":\"scattermapbox\"}],\"scatterpolargl\":[{\"marker\":{\"colorbar\":{\"outlinewidth\":0,\"ticks\":\"\"}},\"type\":\"scatterpolargl\"}],\"scatterpolar\":[{\"marker\":{\"colorbar\":{\"outlinewidth\":0,\"ticks\":\"\"}},\"type\":\"scatterpolar\"}],\"scatter\":[{\"marker\":{\"line\":{\"color\":\"#283442\"}},\"type\":\"scatter\"}],\"scatterternary\":[{\"marker\":{\"colorbar\":{\"outlinewidth\":0,\"ticks\":\"\"}},\"type\":\"scatterternary\"}],\"surface\":[{\"colorbar\":{\"outlinewidth\":0,\"ticks\":\"\"},\"colorscale\":[[0.0,\"#0d0887\"],[0.1111111111111111,\"#46039f\"],[0.2222222222222222,\"#7201a8\"],[0.3333333333333333,\"#9c179e\"],[0.4444444444444444,\"#bd3786\"],[0.5555555555555556,\"#d8576b\"],[0.6666666666666666,\"#ed7953\"],[0.7777777777777778,\"#fb9f3a\"],[0.8888888888888888,\"#fdca26\"],[1.0,\"#f0f921\"]],\"type\":\"surface\"}],\"table\":[{\"cells\":{\"fill\":{\"color\":\"#506784\"},\"line\":{\"color\":\"rgb(17,17,17)\"}},\"header\":{\"fill\":{\"color\":\"#2a3f5f\"},\"line\":{\"color\":\"rgb(17,17,17)\"}},\"type\":\"table\"}]},\"layout\":{\"annotationdefaults\":{\"arrowcolor\":\"#f2f5fa\",\"arrowhead\":0,\"arrowwidth\":1},\"autotypenumbers\":\"strict\",\"coloraxis\":{\"colorbar\":{\"outlinewidth\":0,\"ticks\":\"\"}},\"colorscale\":{\"diverging\":[[0,\"#8e0152\"],[0.1,\"#c51b7d\"],[0.2,\"#de77ae\"],[0.3,\"#f1b6da\"],[0.4,\"#fde0ef\"],[0.5,\"#f7f7f7\"],[0.6,\"#e6f5d0\"],[0.7,\"#b8e186\"],[0.8,\"#7fbc41\"],[0.9,\"#4d9221\"],[1,\"#276419\"]],\"sequential\":[[0.0,\"#0d0887\"],[0.1111111111111111,\"#46039f\"],[0.2222222222222222,\"#7201a8\"],[0.3333333333333333,\"#9c179e\"],[0.4444444444444444,\"#bd3786\"],[0.5555555555555556,\"#d8576b\"],[0.6666666666666666,\"#ed7953\"],[0.7777777777777778,\"#fb9f3a\"],[0.8888888888888888,\"#fdca26\"],[1.0,\"#f0f921\"]],\"sequentialminus\":[[0.0,\"#0d0887\"],[0.1111111111111111,\"#46039f\"],[0.2222222222222222,\"#7201a8\"],[0.3333333333333333,\"#9c179e\"],[0.4444444444444444,\"#bd3786\"],[0.5555555555555556,\"#d8576b\"],[0.6666666666666666,\"#ed7953\"],[0.7777777777777778,\"#fb9f3a\"],[0.8888888888888888,\"#fdca26\"],[1.0,\"#f0f921\"]]},\"colorway\":[\"#636efa\",\"#EF553B\",\"#00cc96\",\"#ab63fa\",\"#FFA15A\",\"#19d3f3\",\"#FF6692\",\"#B6E880\",\"#FF97FF\",\"#FECB52\"],\"font\":{\"color\":\"#f2f5fa\"},\"geo\":{\"bgcolor\":\"rgb(17,17,17)\",\"lakecolor\":\"rgb(17,17,17)\",\"landcolor\":\"rgb(17,17,17)\",\"showlakes\":true,\"showland\":true,\"subunitcolor\":\"#506784\"},\"hoverlabel\":{\"align\":\"left\"},\"hovermode\":\"closest\",\"mapbox\":{\"style\":\"dark\"},\"paper_bgcolor\":\"rgb(17,17,17)\",\"plot_bgcolor\":\"rgb(17,17,17)\",\"polar\":{\"angularaxis\":{\"gridcolor\":\"#506784\",\"linecolor\":\"#506784\",\"ticks\":\"\"},\"bgcolor\":\"rgb(17,17,17)\",\"radialaxis\":{\"gridcolor\":\"#506784\",\"linecolor\":\"#506784\",\"ticks\":\"\"}},\"scene\":{\"xaxis\":{\"backgroundcolor\":\"rgb(17,17,17)\",\"gridcolor\":\"#506784\",\"gridwidth\":2,\"linecolor\":\"#506784\",\"showbackground\":true,\"ticks\":\"\",\"zerolinecolor\":\"#C8D4E3\"},\"yaxis\":{\"backgroundcolor\":\"rgb(17,17,17)\",\"gridcolor\":\"#506784\",\"gridwidth\":2,\"linecolor\":\"#506784\",\"showbackground\":true,\"ticks\":\"\",\"zerolinecolor\":\"#C8D4E3\"},\"zaxis\":{\"backgroundcolor\":\"rgb(17,17,17)\",\"gridcolor\":\"#506784\",\"gridwidth\":2,\"linecolor\":\"#506784\",\"showbackground\":true,\"ticks\":\"\",\"zerolinecolor\":\"#C8D4E3\"}},\"shapedefaults\":{\"line\":{\"color\":\"#f2f5fa\"}},\"sliderdefaults\":{\"bgcolor\":\"#C8D4E3\",\"bordercolor\":\"rgb(17,17,17)\",\"borderwidth\":1,\"tickwidth\":0},\"ternary\":{\"aaxis\":{\"gridcolor\":\"#506784\",\"linecolor\":\"#506784\",\"ticks\":\"\"},\"baxis\":{\"gridcolor\":\"#506784\",\"linecolor\":\"#506784\",\"ticks\":\"\"},\"bgcolor\":\"rgb(17,17,17)\",\"caxis\":{\"gridcolor\":\"#506784\",\"linecolor\":\"#506784\",\"ticks\":\"\"}},\"title\":{\"x\":0.05},\"updatemenudefaults\":{\"bgcolor\":\"#506784\",\"borderwidth\":0},\"xaxis\":{\"automargin\":true,\"gridcolor\":\"#283442\",\"linecolor\":\"#506784\",\"ticks\":\"\",\"title\":{\"standoff\":15},\"zerolinecolor\":\"#283442\",\"zerolinewidth\":2},\"yaxis\":{\"automargin\":true,\"gridcolor\":\"#283442\",\"linecolor\":\"#506784\",\"ticks\":\"\",\"title\":{\"standoff\":15},\"zerolinecolor\":\"#283442\",\"zerolinewidth\":2}}},\"title\":{\"text\":\"Statistics of the categorical columns\"}},                        {\"responsive\": true}                    ).then(function(){\n",
              "                            \n",
              "var gd = document.getElementById('25d6915f-81d2-427b-92ca-970d89457925');\n",
              "var x = new MutationObserver(function (mutations, observer) {{\n",
              "        var display = window.getComputedStyle(gd).display;\n",
              "        if (!display || display === 'none') {{\n",
              "            console.log([gd, 'removed!']);\n",
              "            Plotly.purge(gd);\n",
              "            observer.disconnect();\n",
              "        }}\n",
              "}});\n",
              "\n",
              "// Listen for the removal of the full notebook cells\n",
              "var notebookContainer = gd.closest('#notebook-container');\n",
              "if (notebookContainer) {{\n",
              "    x.observe(notebookContainer, {childList: true});\n",
              "}}\n",
              "\n",
              "// Listen for the clearing of the current output cell\n",
              "var outputEl = gd.closest('.output');\n",
              "if (outputEl) {{\n",
              "    x.observe(outputEl, {childList: true});\n",
              "}}\n",
              "\n",
              "                        })                };                            </script>        </div>\n",
              "</body>\n",
              "</html>"
            ]
          },
          "metadata": {}
        }
      ]
    },
    {
      "cell_type": "markdown",
      "source": [
        "##### Utilizando o sweetviz "
      ],
      "metadata": {
        "id": "Yjam3l8WSXiO"
      }
    },
    {
      "cell_type": "code",
      "source": [
        "# cria o report / creates the report \n",
        "my_report = sv.analyze(df_heart) \n",
        "my_report.show_html()"
      ],
      "metadata": {
        "colab": {
          "base_uri": "https://localhost:8080/",
          "height": 86,
          "referenced_widgets": [
            "8380c04ddde44f63a6d4608a43f4d5de",
            "7732adb2ea664b13871747e0c3942426",
            "0fe2342b195c4094a429363c9e272a44",
            "2bb9c2ea64c04225aa5e24df1f9456f1",
            "80033b4b8adf4bf49d1bf6c8d94cda61",
            "687c90fd13784010a4faa8ee5011dc34",
            "5b095f3c503f4fe0a1d8df3bd560bb87",
            "e717ade389044ab2880567750c9da102",
            "4bd9334befe3484d80b930c1c6f524d2",
            "a344a906ab9e484cb041810d852d0c5b",
            "04987d33081b4c21a2b04eb3a9063f7c"
          ]
        },
        "id": "Hqja6MmsSVoV",
        "outputId": "0edb603e-003c-4096-8a4f-60e4f711d264"
      },
      "execution_count": null,
      "outputs": [
        {
          "output_type": "display_data",
          "data": {
            "text/plain": [
              "                                             |          | [  0%]   00:00 -> (? left)"
            ],
            "application/vnd.jupyter.widget-view+json": {
              "version_major": 2,
              "version_minor": 0,
              "model_id": "8380c04ddde44f63a6d4608a43f4d5de"
            }
          },
          "metadata": {}
        },
        {
          "output_type": "stream",
          "name": "stdout",
          "text": [
            "Report SWEETVIZ_REPORT.html was generated! NOTEBOOK/COLAB USERS: the web browser MAY not pop up, regardless, the report IS saved in your notebook/colab files.\n"
          ]
        }
      ]
    },
    {
      "cell_type": "markdown",
      "source": [
        "##### Pandas-profiling"
      ],
      "metadata": {
        "id": "dbQMFwc0zGtx"
      }
    },
    {
      "cell_type": "code",
      "source": [
        "profile = ProfileReport(df_heart, title='HA_Analysis',\n",
        "                 html={'style': {'full_width': True}}, sort=None)\n",
        "profile"
      ],
      "metadata": {
        "id": "AzklJVjLbh3a"
      },
      "execution_count": null,
      "outputs": []
    },
    {
      "cell_type": "markdown",
      "source": [
        "Alguns pontos chamam a atenção a partir da análise univariada utilizando o Plotly, Sweetviz eo Panda-Profiling:/ *Some points draw attention from the univariate analysis using Plotly, Sweetviz and Panda-Profiling*:\n",
        "- 68,2% das amostras é do sexo masculino/ <br>*68.2% of the samples are male;*\n",
        "- 85,1% das coletas não tinha açucar no sangue em jejum/ <br>*85.1% of the collections had no fasting blood sugar* (acuc_sang_jejum)\n",
        "- 67,2% das induções por exercício apresentaram angina /<br> *67.2% of exercise inductions had angina* (ang_indz_exerc)\n",
        "- Na descrição fornecida pelo dataset indica um range de quantidade de vasos de 0-3, no entanto temos registros de itens com 4 vasos. /<br>*In the description provided by the dataset, it indicates a range of vase quantity from 0-3, however we have records of items with 4 vases.*\n",
        "- Outras feature com número de itens diferentes do que está na descrição são as colunas ```talassemia``` e a ```num_vasos```, que contém dois itens ```0``` e quatro itens ```4```, respectivamente. Segundo pesquisas sobre o dataset no site Kaggle.com se trata de valores ```Null```. Foi decidido removê-las dá análise. /<br> *Other features with a different number of items than what is in the description are the columns ```talassemia``` and ```num_vasos```, which contain two items ```0``` and four items ```4 ```, respectively. According to research on the dataset on the Kaggle.com site, these are ```Null``` values. It was decided to remove them from analysis.*\n",
        "- Podemos considerar a variável target como balanceada: 54,3-45,7 / <br>*We can consider the target variable as balanced: 54.3-45.7*"
      ],
      "metadata": {
        "id": "TyxP8ka-2KPA"
      }
    },
    {
      "cell_type": "code",
      "source": [
        "df_heart = df_heart.drop(df_heart[df_heart.talassemia == 0].index).reset_index(drop=True)\n",
        "df_heart = df_heart.drop(df_heart[df_heart.num_vasos == 4].index).reset_index(drop=True)\n",
        "df_heart"
      ],
      "metadata": {
        "colab": {
          "base_uri": "https://localhost:8080/",
          "height": 424
        },
        "id": "0Lo1ve0k5yYs",
        "outputId": "a6024c5c-2c0c-4e04-cb29-12db65bb2d74"
      },
      "execution_count": 4,
      "outputs": [
        {
          "output_type": "execute_result",
          "data": {
            "text/plain": [
              "     age  sex  tipo_de_dor  pres_art_repous  colest  acuc_sang_jejum  \\\n",
              "0     63    1            3              145     233                1   \n",
              "1     37    1            2              130     250                0   \n",
              "2     41    0            1              130     204                0   \n",
              "3     56    1            1              120     236                0   \n",
              "4     57    0            0              120     354                0   \n",
              "..   ...  ...          ...              ...     ...              ...   \n",
              "291   57    0            0              140     241                0   \n",
              "292   45    1            3              110     264                0   \n",
              "293   68    1            0              144     193                1   \n",
              "294   57    1            0              130     131                0   \n",
              "295   57    0            1              130     236                0   \n",
              "\n",
              "     eletrc_desc  max_frq_card  ang_indz_exerc  ST_indz_exerc  pico_ST_exerc  \\\n",
              "0              0           150               0            2.3              0   \n",
              "1              1           187               0            3.5              0   \n",
              "2              0           172               0            1.4              2   \n",
              "3              1           178               0            0.8              2   \n",
              "4              1           163               1            0.6              2   \n",
              "..           ...           ...             ...            ...            ...   \n",
              "291            1           123               1            0.2              1   \n",
              "292            1           132               0            1.2              1   \n",
              "293            1           141               0            3.4              1   \n",
              "294            1           115               1            1.2              1   \n",
              "295            0           174               0            0.0              1   \n",
              "\n",
              "     num_vasos  talassemia  output  \n",
              "0            0           1       1  \n",
              "1            0           2       1  \n",
              "2            0           2       1  \n",
              "3            0           2       1  \n",
              "4            0           2       1  \n",
              "..         ...         ...     ...  \n",
              "291          0           3       0  \n",
              "292          0           3       0  \n",
              "293          2           3       0  \n",
              "294          1           3       0  \n",
              "295          1           2       0  \n",
              "\n",
              "[296 rows x 14 columns]"
            ],
            "text/html": [
              "\n",
              "  <div id=\"df-8d42844e-3dfd-462c-88d0-7da1c6d04642\">\n",
              "    <div class=\"colab-df-container\">\n",
              "      <div>\n",
              "<style scoped>\n",
              "    .dataframe tbody tr th:only-of-type {\n",
              "        vertical-align: middle;\n",
              "    }\n",
              "\n",
              "    .dataframe tbody tr th {\n",
              "        vertical-align: top;\n",
              "    }\n",
              "\n",
              "    .dataframe thead th {\n",
              "        text-align: right;\n",
              "    }\n",
              "</style>\n",
              "<table border=\"1\" class=\"dataframe\">\n",
              "  <thead>\n",
              "    <tr style=\"text-align: right;\">\n",
              "      <th></th>\n",
              "      <th>age</th>\n",
              "      <th>sex</th>\n",
              "      <th>tipo_de_dor</th>\n",
              "      <th>pres_art_repous</th>\n",
              "      <th>colest</th>\n",
              "      <th>acuc_sang_jejum</th>\n",
              "      <th>eletrc_desc</th>\n",
              "      <th>max_frq_card</th>\n",
              "      <th>ang_indz_exerc</th>\n",
              "      <th>ST_indz_exerc</th>\n",
              "      <th>pico_ST_exerc</th>\n",
              "      <th>num_vasos</th>\n",
              "      <th>talassemia</th>\n",
              "      <th>output</th>\n",
              "    </tr>\n",
              "  </thead>\n",
              "  <tbody>\n",
              "    <tr>\n",
              "      <th>0</th>\n",
              "      <td>63</td>\n",
              "      <td>1</td>\n",
              "      <td>3</td>\n",
              "      <td>145</td>\n",
              "      <td>233</td>\n",
              "      <td>1</td>\n",
              "      <td>0</td>\n",
              "      <td>150</td>\n",
              "      <td>0</td>\n",
              "      <td>2.3</td>\n",
              "      <td>0</td>\n",
              "      <td>0</td>\n",
              "      <td>1</td>\n",
              "      <td>1</td>\n",
              "    </tr>\n",
              "    <tr>\n",
              "      <th>1</th>\n",
              "      <td>37</td>\n",
              "      <td>1</td>\n",
              "      <td>2</td>\n",
              "      <td>130</td>\n",
              "      <td>250</td>\n",
              "      <td>0</td>\n",
              "      <td>1</td>\n",
              "      <td>187</td>\n",
              "      <td>0</td>\n",
              "      <td>3.5</td>\n",
              "      <td>0</td>\n",
              "      <td>0</td>\n",
              "      <td>2</td>\n",
              "      <td>1</td>\n",
              "    </tr>\n",
              "    <tr>\n",
              "      <th>2</th>\n",
              "      <td>41</td>\n",
              "      <td>0</td>\n",
              "      <td>1</td>\n",
              "      <td>130</td>\n",
              "      <td>204</td>\n",
              "      <td>0</td>\n",
              "      <td>0</td>\n",
              "      <td>172</td>\n",
              "      <td>0</td>\n",
              "      <td>1.4</td>\n",
              "      <td>2</td>\n",
              "      <td>0</td>\n",
              "      <td>2</td>\n",
              "      <td>1</td>\n",
              "    </tr>\n",
              "    <tr>\n",
              "      <th>3</th>\n",
              "      <td>56</td>\n",
              "      <td>1</td>\n",
              "      <td>1</td>\n",
              "      <td>120</td>\n",
              "      <td>236</td>\n",
              "      <td>0</td>\n",
              "      <td>1</td>\n",
              "      <td>178</td>\n",
              "      <td>0</td>\n",
              "      <td>0.8</td>\n",
              "      <td>2</td>\n",
              "      <td>0</td>\n",
              "      <td>2</td>\n",
              "      <td>1</td>\n",
              "    </tr>\n",
              "    <tr>\n",
              "      <th>4</th>\n",
              "      <td>57</td>\n",
              "      <td>0</td>\n",
              "      <td>0</td>\n",
              "      <td>120</td>\n",
              "      <td>354</td>\n",
              "      <td>0</td>\n",
              "      <td>1</td>\n",
              "      <td>163</td>\n",
              "      <td>1</td>\n",
              "      <td>0.6</td>\n",
              "      <td>2</td>\n",
              "      <td>0</td>\n",
              "      <td>2</td>\n",
              "      <td>1</td>\n",
              "    </tr>\n",
              "    <tr>\n",
              "      <th>...</th>\n",
              "      <td>...</td>\n",
              "      <td>...</td>\n",
              "      <td>...</td>\n",
              "      <td>...</td>\n",
              "      <td>...</td>\n",
              "      <td>...</td>\n",
              "      <td>...</td>\n",
              "      <td>...</td>\n",
              "      <td>...</td>\n",
              "      <td>...</td>\n",
              "      <td>...</td>\n",
              "      <td>...</td>\n",
              "      <td>...</td>\n",
              "      <td>...</td>\n",
              "    </tr>\n",
              "    <tr>\n",
              "      <th>291</th>\n",
              "      <td>57</td>\n",
              "      <td>0</td>\n",
              "      <td>0</td>\n",
              "      <td>140</td>\n",
              "      <td>241</td>\n",
              "      <td>0</td>\n",
              "      <td>1</td>\n",
              "      <td>123</td>\n",
              "      <td>1</td>\n",
              "      <td>0.2</td>\n",
              "      <td>1</td>\n",
              "      <td>0</td>\n",
              "      <td>3</td>\n",
              "      <td>0</td>\n",
              "    </tr>\n",
              "    <tr>\n",
              "      <th>292</th>\n",
              "      <td>45</td>\n",
              "      <td>1</td>\n",
              "      <td>3</td>\n",
              "      <td>110</td>\n",
              "      <td>264</td>\n",
              "      <td>0</td>\n",
              "      <td>1</td>\n",
              "      <td>132</td>\n",
              "      <td>0</td>\n",
              "      <td>1.2</td>\n",
              "      <td>1</td>\n",
              "      <td>0</td>\n",
              "      <td>3</td>\n",
              "      <td>0</td>\n",
              "    </tr>\n",
              "    <tr>\n",
              "      <th>293</th>\n",
              "      <td>68</td>\n",
              "      <td>1</td>\n",
              "      <td>0</td>\n",
              "      <td>144</td>\n",
              "      <td>193</td>\n",
              "      <td>1</td>\n",
              "      <td>1</td>\n",
              "      <td>141</td>\n",
              "      <td>0</td>\n",
              "      <td>3.4</td>\n",
              "      <td>1</td>\n",
              "      <td>2</td>\n",
              "      <td>3</td>\n",
              "      <td>0</td>\n",
              "    </tr>\n",
              "    <tr>\n",
              "      <th>294</th>\n",
              "      <td>57</td>\n",
              "      <td>1</td>\n",
              "      <td>0</td>\n",
              "      <td>130</td>\n",
              "      <td>131</td>\n",
              "      <td>0</td>\n",
              "      <td>1</td>\n",
              "      <td>115</td>\n",
              "      <td>1</td>\n",
              "      <td>1.2</td>\n",
              "      <td>1</td>\n",
              "      <td>1</td>\n",
              "      <td>3</td>\n",
              "      <td>0</td>\n",
              "    </tr>\n",
              "    <tr>\n",
              "      <th>295</th>\n",
              "      <td>57</td>\n",
              "      <td>0</td>\n",
              "      <td>1</td>\n",
              "      <td>130</td>\n",
              "      <td>236</td>\n",
              "      <td>0</td>\n",
              "      <td>0</td>\n",
              "      <td>174</td>\n",
              "      <td>0</td>\n",
              "      <td>0.0</td>\n",
              "      <td>1</td>\n",
              "      <td>1</td>\n",
              "      <td>2</td>\n",
              "      <td>0</td>\n",
              "    </tr>\n",
              "  </tbody>\n",
              "</table>\n",
              "<p>296 rows × 14 columns</p>\n",
              "</div>\n",
              "      <button class=\"colab-df-convert\" onclick=\"convertToInteractive('df-8d42844e-3dfd-462c-88d0-7da1c6d04642')\"\n",
              "              title=\"Convert this dataframe to an interactive table.\"\n",
              "              style=\"display:none;\">\n",
              "        \n",
              "  <svg xmlns=\"http://www.w3.org/2000/svg\" height=\"24px\"viewBox=\"0 0 24 24\"\n",
              "       width=\"24px\">\n",
              "    <path d=\"M0 0h24v24H0V0z\" fill=\"none\"/>\n",
              "    <path d=\"M18.56 5.44l.94 2.06.94-2.06 2.06-.94-2.06-.94-.94-2.06-.94 2.06-2.06.94zm-11 1L8.5 8.5l.94-2.06 2.06-.94-2.06-.94L8.5 2.5l-.94 2.06-2.06.94zm10 10l.94 2.06.94-2.06 2.06-.94-2.06-.94-.94-2.06-.94 2.06-2.06.94z\"/><path d=\"M17.41 7.96l-1.37-1.37c-.4-.4-.92-.59-1.43-.59-.52 0-1.04.2-1.43.59L10.3 9.45l-7.72 7.72c-.78.78-.78 2.05 0 2.83L4 21.41c.39.39.9.59 1.41.59.51 0 1.02-.2 1.41-.59l7.78-7.78 2.81-2.81c.8-.78.8-2.07 0-2.86zM5.41 20L4 18.59l7.72-7.72 1.47 1.35L5.41 20z\"/>\n",
              "  </svg>\n",
              "      </button>\n",
              "      \n",
              "  <style>\n",
              "    .colab-df-container {\n",
              "      display:flex;\n",
              "      flex-wrap:wrap;\n",
              "      gap: 12px;\n",
              "    }\n",
              "\n",
              "    .colab-df-convert {\n",
              "      background-color: #E8F0FE;\n",
              "      border: none;\n",
              "      border-radius: 50%;\n",
              "      cursor: pointer;\n",
              "      display: none;\n",
              "      fill: #1967D2;\n",
              "      height: 32px;\n",
              "      padding: 0 0 0 0;\n",
              "      width: 32px;\n",
              "    }\n",
              "\n",
              "    .colab-df-convert:hover {\n",
              "      background-color: #E2EBFA;\n",
              "      box-shadow: 0px 1px 2px rgba(60, 64, 67, 0.3), 0px 1px 3px 1px rgba(60, 64, 67, 0.15);\n",
              "      fill: #174EA6;\n",
              "    }\n",
              "\n",
              "    [theme=dark] .colab-df-convert {\n",
              "      background-color: #3B4455;\n",
              "      fill: #D2E3FC;\n",
              "    }\n",
              "\n",
              "    [theme=dark] .colab-df-convert:hover {\n",
              "      background-color: #434B5C;\n",
              "      box-shadow: 0px 1px 3px 1px rgba(0, 0, 0, 0.15);\n",
              "      filter: drop-shadow(0px 1px 2px rgba(0, 0, 0, 0.3));\n",
              "      fill: #FFFFFF;\n",
              "    }\n",
              "  </style>\n",
              "\n",
              "      <script>\n",
              "        const buttonEl =\n",
              "          document.querySelector('#df-8d42844e-3dfd-462c-88d0-7da1c6d04642 button.colab-df-convert');\n",
              "        buttonEl.style.display =\n",
              "          google.colab.kernel.accessAllowed ? 'block' : 'none';\n",
              "\n",
              "        async function convertToInteractive(key) {\n",
              "          const element = document.querySelector('#df-8d42844e-3dfd-462c-88d0-7da1c6d04642');\n",
              "          const dataTable =\n",
              "            await google.colab.kernel.invokeFunction('convertToInteractive',\n",
              "                                                     [key], {});\n",
              "          if (!dataTable) return;\n",
              "\n",
              "          const docLinkHtml = 'Like what you see? Visit the ' +\n",
              "            '<a target=\"_blank\" href=https://colab.research.google.com/notebooks/data_table.ipynb>data table notebook</a>'\n",
              "            + ' to learn more about interactive tables.';\n",
              "          element.innerHTML = '';\n",
              "          dataTable['output_type'] = 'display_data';\n",
              "          await google.colab.output.renderOutput(dataTable, element);\n",
              "          const docLink = document.createElement('div');\n",
              "          docLink.innerHTML = docLinkHtml;\n",
              "          element.appendChild(docLink);\n",
              "        }\n",
              "      </script>\n",
              "    </div>\n",
              "  </div>\n",
              "  "
            ]
          },
          "metadata": {},
          "execution_count": 4
        }
      ]
    },
    {
      "cell_type": "markdown",
      "source": [
        "#### 1.2.3 Análise Bivariada"
      ],
      "metadata": {
        "id": "eFdUmM6x0MkY"
      }
    },
    {
      "cell_type": "markdown",
      "source": [
        "Confrontando algumas variáveis com a variável target. /<br>*Comparing some variables with the target variable*"
      ],
      "metadata": {
        "id": "LKmDsatha8Uz"
      }
    },
    {
      "cell_type": "code",
      "source": [
        "g = sns.countplot(x = 'age', data = df_heart, hue = 'output',palette = ['b', 'r'])\n",
        "g.legend (title='Chande de ataque cardíaco\\nchance of having a heart attack', labels=['Menos Chance// less chance', 'Mais Chance// more chance'],\n",
        "          bbox_to_anchor = (1, 1))\n",
        "plt.rcParams[\"figure.figsize\"] = (7,6)\n",
        "plt.show()"
      ],
      "metadata": {
        "id": "v6HakmnbbWaI",
        "colab": {
          "base_uri": "https://localhost:8080/",
          "height": 382
        },
        "outputId": "93c6f40d-dff2-4c39-ba95-1a7f1122159a"
      },
      "execution_count": null,
      "outputs": [
        {
          "output_type": "display_data",
          "data": {
            "text/plain": [
              "<Figure size 600x400 with 1 Axes>"
            ],
            "image/png": "[encoded data removed]"
          },
          "metadata": {}
        }
      ]
    },
    {
      "cell_type": "code",
      "source": [
        "g2 = sns.countplot(x = 'sex', \n",
        "                   data = df_heart, \n",
        "                   hue = 'output', \n",
        "                   palette = ['b', 'r'])\n",
        "\n",
        "for container in g2.containers:\n",
        "    g2.bar_label(container)\n",
        "\n",
        "g2.legend (title='Chande de ataque cardíaco\\nchance of having a heart attack', labels=['Menos Chance// less chance', 'Mais Chance// more chance'],\n",
        "           bbox_to_anchor = (1, 0.65))\n",
        "\n",
        "plt.rcParams[\"figure.figsize\"] = (7,6)\n",
        "plt.xticks(np.arange(2), ['Female', 'Male'])\n",
        "plt.show()"
      ],
      "metadata": {
        "id": "DmvatYzJWuGy",
        "colab": {
          "base_uri": "https://localhost:8080/",
          "height": 292
        },
        "outputId": "cc439da4-e34a-4227-c905-d6ed04607ac4"
      },
      "execution_count": null,
      "outputs": [
        {
          "output_type": "display_data",
          "data": {
            "text/plain": [
              "<Figure size 1500x600 with 1 Axes>"
            ],
            "image/png": "[encoded data removed]"
          },
          "metadata": {}
        }
      ]
    },
    {
      "cell_type": "markdown",
      "source": [
        "Nas mulheres há uma taxa de 74,7% com mais chances de ter um ataque cardíaco, enquanto que nos homens a variação é menor e apenas 44,3% tem mais chance de ter um ataque. / <br>*In women there is a rate of 74.7% more likely to have a heart attack, while in men the variation is smaller and only 44.3% are more likely to have an attack.*"
      ],
      "metadata": {
        "id": "04kV7AAvnAPQ"
      }
    },
    {
      "cell_type": "code",
      "source": [
        "g3 = sns.countplot(x = 'age', data = df_heart.query('sex==0'), hue = 'output',palette = ['b', 'r'])\n",
        "g3.legend (title='Chande de ataque cardíaco\\nchance of having a heart attack', labels=['Menos Chance// less chance', 'Mais Chance// more chance'],\n",
        "          bbox_to_anchor = (1, 1))\n",
        "\n",
        "plt.rcParams[\"figure.figsize\"] = (7,6)\n",
        "\n",
        "plt.title(\"Distribuição das mulheres por idade\\nDistribution of women by age\")\n",
        "plt.show()"
      ],
      "metadata": {
        "id": "SDy9ESlNIsap",
        "colab": {
          "base_uri": "https://localhost:8080/",
          "height": 526
        },
        "outputId": "07f02006-95e7-4f15-aca1-aa63a06d446f"
      },
      "execution_count": null,
      "outputs": [
        {
          "output_type": "display_data",
          "data": {
            "text/plain": [
              "<Figure size 700x600 with 1 Axes>"
            ],
            "image/png": "[encoded data removed]"
          },
          "metadata": {}
        }
      ]
    },
    {
      "cell_type": "code",
      "source": [
        "g3 = sns.countplot(x = 'age', data = df_heart.query('sex==1'), hue = 'output',palette = ['b', 'r'])\n",
        "g3.legend (title='Chande de ataque cardíaco\\nchance of having a heart attack', labels=['Menos Chance// less chance', 'Mais Chance// more chance'],\n",
        "          bbox_to_anchor = (1, 1))\n",
        "plt.rcParams[\"figure.figsize\"] = (7,6)\n",
        "plt.title(\"Distribuição das homens por idade\\nDistribution of men by age\")\n",
        "plt.show()"
      ],
      "metadata": {
        "colab": {
          "base_uri": "https://localhost:8080/",
          "height": 522
        },
        "id": "__p-xVQAECh8",
        "outputId": "18a82dd2-6677-4448-c79a-8772c3b865f8"
      },
      "execution_count": null,
      "outputs": [
        {
          "output_type": "display_data",
          "data": {
            "text/plain": [
              "<Figure size 700x600 with 1 Axes>"
            ],
            "image/png": "[encoded data removed]"
          },
          "metadata": {}
        }
      ]
    },
    {
      "cell_type": "code",
      "source": [
        "g4 = sns.pairplot(df_heart, hue=\"output\", palette=['b', 'r'])\n",
        "plt.show()"
      ],
      "metadata": {
        "id": "ymOp_GxLQMSQ"
      },
      "execution_count": null,
      "outputs": []
    },
    {
      "cell_type": "markdown",
      "source": [
        "## 2.0 Machine Learning"
      ],
      "metadata": {
        "id": "8xafO7wv0cY2"
      }
    },
    {
      "cell_type": "markdown",
      "source": [
        "### 2.1 Bibliotecas\n",
        "### Libraries"
      ],
      "metadata": {
        "id": "fuywhVG00oBd"
      }
    },
    {
      "cell_type": "code",
      "source": [
        "#Bibliotecas para o ML\n",
        "from sklearn.pipeline import Pipeline\n",
        "from sklearn.preprocessing import OneHotEncoder, StandardScaler\n",
        "from sklearn.compose import ColumnTransformer\n",
        "from sklearn.model_selection import train_test_split, cross_val_score, \\\n",
        "                                    cross_val_predict, KFold, StratifiedKFold \\\n",
        "                                    "
      ],
      "metadata": {
        "id": "_rDS65zRbWet"
      },
      "execution_count": 5,
      "outputs": []
    },
    {
      "cell_type": "code",
      "source": [
        "from sklearn.tree import DecisionTreeClassifier, plot_tree\n",
        "from sklearn.metrics import accuracy_score, confusion_matrix, \\\n",
        "                            precision_score, ConfusionMatrixDisplay, \\\n",
        "                            classification_report, recall_score, roc_auc_score, \\\n",
        "                            roc_curve, precision_recall_curve, RocCurveDisplay, \\\n",
        "                            auc"
      ],
      "metadata": {
        "id": "OQDuW8A9BlMf"
      },
      "execution_count": 6,
      "outputs": []
    },
    {
      "cell_type": "markdown",
      "source": [
        "### 2.2 Organizando o dataset"
      ],
      "metadata": {
        "id": "1IOwJSq5gjN2"
      }
    },
    {
      "cell_type": "markdown",
      "source": [
        "#### 2.2.1 Divisão das variáveis independentes e dependente\n",
        "#### Split in X and y"
      ],
      "metadata": {
        "id": "8Z2nl-SN1BcZ"
      }
    },
    {
      "cell_type": "code",
      "source": [
        "features = df_heart.drop(['output'], axis=1).copy()\n",
        "labels = df_heart.output"
      ],
      "metadata": {
        "id": "Qvb0PH1wDyWn"
      },
      "execution_count": 11,
      "outputs": []
    },
    {
      "cell_type": "markdown",
      "source": [
        "#### 2.2.2 Divisão do dataset em treino-teste (estratificado)\n",
        "Split in train-test, stratified"
      ],
      "metadata": {
        "id": "jQkr6GP_0rCF"
      }
    },
    {
      "cell_type": "code",
      "source": [
        "# dividindo o dataset\n",
        "# split\n",
        "X_train, X_test, y_train, y_test= train_test_split(features, labels,\n",
        "                                train_size=0.7,\n",
        "                                random_state=42,\n",
        "                                stratify=features[\"sex\"]\n",
        "                               )\n",
        "print (f\"X_train: {X_train.shape}, y_train: {y_train.shape}\")\n",
        "print (f\"X_remainder: {X_test.shape}, y_remainder: {y_test.shape}\")"
      ],
      "metadata": {
        "colab": {
          "base_uri": "https://localhost:8080/"
        },
        "id": "3UqjJslNoIiK",
        "outputId": "68fd99cc-c12f-40f7-cc14-5fcfe69cf7ca"
      },
      "execution_count": 12,
      "outputs": [
        {
          "output_type": "stream",
          "name": "stdout",
          "text": [
            "X_train: (207, 13), y_train: (207,)\n",
            "X_remainder: (89, 13), y_remainder: (89,)\n"
          ]
        }
      ]
    },
    {
      "cell_type": "code",
      "source": [
        "#verificando a proporção da estratificação\n",
        "#checking the proportion of the stratified\n",
        "display(X_train[\"sex\"].value_counts()/len(X_train),\n",
        "        X_test[\"sex\"].value_counts()/len(X_test),         \n",
        "        df_heart[\"sex\"].value_counts()/len(df_heart)\n",
        "        )"
      ],
      "metadata": {
        "colab": {
          "base_uri": "https://localhost:8080/",
          "height": 173
        },
        "id": "OpsJJKBStsXk",
        "outputId": "f9d2dfed-345d-4ea5-b929-d395741a68a5"
      },
      "execution_count": 13,
      "outputs": [
        {
          "output_type": "display_data",
          "data": {
            "text/plain": [
              "1    0.681159\n",
              "0    0.318841\n",
              "Name: sex, dtype: float64"
            ]
          },
          "metadata": {}
        },
        {
          "output_type": "display_data",
          "data": {
            "text/plain": [
              "1    0.674157\n",
              "0    0.325843\n",
              "Name: sex, dtype: float64"
            ]
          },
          "metadata": {}
        },
        {
          "output_type": "display_data",
          "data": {
            "text/plain": [
              "1    0.679054\n",
              "0    0.320946\n",
              "Name: sex, dtype: float64"
            ]
          },
          "metadata": {}
        }
      ]
    },
    {
      "cell_type": "markdown",
      "source": [
        "### 2.3 Pipeline tunando a árvore de decisão"
      ],
      "metadata": {
        "id": "ODT48es-e63Y"
      }
    },
    {
      "cell_type": "markdown",
      "source": [
        "Usando a Bayesian Optimization ...\n",
        "Bayesian Optmization: Um método utilizado para tunar os parâmetros do modelo é o GridSearch, porém nele você dá a mesma importância para todos os parâmetros, e na realidade isso nem sempre será útil. O resultado disso é um gasto de tempo desnecessário. Já com uma Random Search e a Bayesian Optmization é possível explorar dando mais importância aos parâmetros que afetam mais o score que se deseja otimizar.\n",
        "\n",
        "---\n",
        "Using Bayesian Optimization...\n",
        "Bayesian Optimization: A method used to tune model parameters is GridSearch, but in it you give the same importance to all parameters, and in reality this will not always be useful. The result of this is an unnecessary waste of time. With a Random Search and Bayesian Optimization, it is possible to explore giving more importance to the parameters that most affect the score that you want to optimize.\n"
      ],
      "metadata": {
        "id": "nTB8vI36fOFz"
      }
    },
    {
      "cell_type": "markdown",
      "source": [
        "Então já vamos aplicar o pipeline utilizando tanto uma Random Search quanto a Bayesian Optmization para treinar a árvore de decisão.\n",
        "\n",
        "---\n",
        "So let's apply the pipeline using both Random Search and Bayesian Optimization to train the decision tree."
      ],
      "metadata": {
        "id": "IJNwNnf8fasx"
      }
    },
    {
      "cell_type": "code",
      "source": [
        "!pip install scikit-optimize\n",
        "from skopt import dummy_minimize, gp_minimize\n",
        "from skopt.plots import plot_convergence"
      ],
      "metadata": {
        "id": "ZLMFXUGcfK9B",
        "colab": {
          "base_uri": "https://localhost:8080/"
        },
        "outputId": "3d4732b0-c0cc-4c03-a246-05df40c344e0"
      },
      "execution_count": 7,
      "outputs": [
        {
          "output_type": "stream",
          "name": "stdout",
          "text": [
            "Looking in indexes: https://pypi.org/simple, https://us-python.pkg.dev/colab-wheels/public/simple/\n",
            "Collecting scikit-optimize\n",
            "  Downloading scikit_optimize-0.9.0-py2.py3-none-any.whl (100 kB)\n",
            "\u001b[K     |████████████████████████████████| 100 kB 4.2 MB/s \n",
            "\u001b[?25hCollecting pyaml>=16.9\n",
            "  Downloading pyaml-21.10.1-py2.py3-none-any.whl (24 kB)\n",
            "Requirement already satisfied: numpy>=1.13.3 in /usr/local/lib/python3.8/dist-packages (from scikit-optimize) (1.21.6)\n",
            "Requirement already satisfied: scikit-learn>=0.20.0 in /usr/local/lib/python3.8/dist-packages (from scikit-optimize) (1.0.2)\n",
            "Requirement already satisfied: joblib>=0.11 in /usr/local/lib/python3.8/dist-packages (from scikit-optimize) (1.2.0)\n",
            "Requirement already satisfied: scipy>=0.19.1 in /usr/local/lib/python3.8/dist-packages (from scikit-optimize) (1.7.3)\n",
            "Requirement already satisfied: PyYAML in /usr/local/lib/python3.8/dist-packages (from pyaml>=16.9->scikit-optimize) (6.0)\n",
            "Requirement already satisfied: threadpoolctl>=2.0.0 in /usr/local/lib/python3.8/dist-packages (from scikit-learn>=0.20.0->scikit-optimize) (3.1.0)\n",
            "Installing collected packages: pyaml, scikit-optimize\n",
            "Successfully installed pyaml-21.10.1 scikit-optimize-0.9.0\n"
          ]
        }
      ]
    },
    {
      "cell_type": "code",
      "source": [
        "# definindo tipo das features\n",
        "# defining feature type\n",
        "num = ['age', 'ST_indz_exerc']\n",
        "num_std_scl = ['pres_art_repous', 'colest', 'max_frq_card']\n",
        "cat = ['sex', 'tipo_de_dor', 'ang_indz_exerc', 'num_vasos', 'acuc_sang_jejum', \n",
        "       'eletrc_desc', 'pico_ST_exerc', 'talassemia']\n",
        "\n",
        "#tratamento das variáveis numéricas e categóricas\n",
        "#treatment of numeric and categorical variables\n",
        "t = [('cat', OneHotEncoder(handle_unknown='ignore'), cat)]\n",
        "\n",
        "preprocessor = ColumnTransformer(transformers=t, remainder='passthrough')"
      ],
      "metadata": {
        "id": "Ljiwt2a3g8U7"
      },
      "execution_count": 8,
      "outputs": []
    },
    {
      "cell_type": "code",
      "source": [
        "# Criando um função com o pipeline para utilizar nos dois modelos\n",
        "# Creating a function with the pipeline to use in both models\n",
        "\n",
        "def treinar_modelo(params):\n",
        "  criterion = params[0]\n",
        "  max_depth = params[1]\n",
        "  min_samples_leaf = params[2]\n",
        "\n",
        "  print(params)\n",
        "  \n",
        "  pipe = Pipeline(steps=[('preprocessor', preprocessor),\n",
        "                       ('clf', DecisionTreeClassifier(criterion = criterion,\n",
        "                                                      max_depth = max_depth,\n",
        "                                                      min_samples_leaf = min_samples_leaf,\n",
        "                                                      random_state=42)\n",
        "                       )\n",
        "                       ]\n",
        "                )\n",
        "  \n",
        "  pipe.fit(X_train, y_train)\n",
        "\n",
        "  p = pipe.predict(X_test)\n",
        "\n",
        "  recall_scr = recall_score(y_test, p)\n",
        "\n",
        "  recall_dict = {}\n",
        "  inner_dict = {}\n",
        "  # valid_cruz_strat = KFold(n_splits=5, random_state=42, shuffle=True)\n",
        "  my_key = tuple(params)\n",
        "\n",
        "  for kfold in range(2,16):\n",
        "    valid_cruz_strat = KFold(n_splits=kfold, \n",
        "                                       shuffle=True, \n",
        "                                       random_state=42\n",
        "                                       )\n",
        "        \n",
        "    inner_dict[kfold] = (-np.mean(cross_val_score(pipe, X_train, y_train,\n",
        "                                cv=valid_cruz_strat,\n",
        "                                scoring='recall'\n",
        "                                )))\n",
        "  \n",
        "  recall_dict[my_key] = inner_dict\n",
        "  \n",
        "  # Initialize a variable to store the minimum value\n",
        "  min_value = 0\n",
        "  n_fold = 0\n",
        "  \n",
        "  # Use a for loop to find the minimum value\n",
        "  for i, (chave, valor) in enumerate(recall_dict.items()):\n",
        "      for subchave, subvalor in valor.items():\n",
        "        if (subvalor is None) or (subvalor < min_value):\n",
        "          min_value = subvalor\n",
        "          n_fold = subchave\n",
        "\n",
        "  lista_resultado.append([params, n_fold, min_value]) \n",
        "  # print(lista_resultado)\n",
        "  # print(f\"Numero de folds: {n_fold}\\nRecall: {min_value}\\n\")\n",
        "  return min_value\n",
        "  \n",
        "space = [('gini', 'entropy'), #criterion\n",
        "         (5,20), #max_depth\n",
        "         (8,20), #min_samples_leaf\n",
        "         ]"
      ],
      "metadata": {
        "id": "zzjPeDVufzVQ"
      },
      "execution_count": 90,
      "outputs": []
    },
    {
      "cell_type": "code",
      "source": [
        "lista_resultado = [] \n",
        "\n",
        "# Random Search\n",
        "resultado_RS = dummy_minimize(treinar_modelo, \n",
        "                              space, \n",
        "                              random_state=42, \n",
        "                              verbose=0, \n",
        "                              n_calls=30\n",
        "                              )\n",
        "\n",
        "print(f\"\\n\\nParametros: {resultado_RS.x} \\nRecall: {-round(resultado_RS.fun, 4)}\")"
      ],
      "metadata": {
        "colab": {
          "base_uri": "https://localhost:8080/"
        },
        "id": "OvCffDf5gHrU",
        "outputId": "ef11f56b-768e-4534-e174-dca61bccebe3"
      },
      "execution_count": 91,
      "outputs": [
        {
          "output_type": "stream",
          "name": "stdout",
          "text": [
            "['entropy', 19, 18]\n",
            "['entropy', 9, 14]\n",
            "['gini', 11, 18]\n",
            "['gini', 9, 11]\n",
            "['gini', 7, 13]\n",
            "['gini', 12, 19]\n",
            "['entropy', 6, 19]\n",
            "['gini', 16, 17]\n",
            "['entropy', 16, 16]\n",
            "['gini', 15, 17]\n",
            "['gini', 16, 10]\n",
            "['gini', 8, 16]\n",
            "['gini', 7, 14]\n",
            "['gini', 11, 9]\n",
            "['entropy', 16, 9]\n",
            "['gini', 14, 12]\n",
            "['gini', 16, 19]\n",
            "['gini', 17, 15]\n",
            "['gini', 18, 8]\n",
            "['gini', 12, 11]\n",
            "['gini', 10, 13]\n",
            "['entropy', 10, 20]\n",
            "['entropy', 14, 19]\n",
            "['entropy', 18, 11]\n",
            "['entropy', 20, 15]\n",
            "['entropy', 16, 16]\n",
            "['entropy', 9, 20]\n",
            "['gini', 9, 15]\n",
            "['gini', 16, 19]\n",
            "['entropy', 13, 20]\n",
            "\n",
            "\n",
            "Parametros: ['gini', 8, 16] \n",
            "Recall: 0.9111\n"
          ]
        }
      ]
    },
    {
      "cell_type": "code",
      "source": [
        "pd.DataFrame(lista_resultado, columns=['Parametros', 'Folds', 'Recall']).sort_values(by='Recall').head(3)\n",
        "# criterion = params[0]\n",
        "# max_depth = params[1]\n",
        "# min_samples_leaf = params[2]"
      ],
      "metadata": {
        "colab": {
          "base_uri": "https://localhost:8080/",
          "height": 143
        },
        "id": "JNzbaKELJZ32",
        "outputId": "a4012d99-6e05-4042-aee5-fb398f0c6115"
      },
      "execution_count": 92,
      "outputs": [
        {
          "output_type": "execute_result",
          "data": {
            "text/plain": [
              "        Parametros  Folds    Recall\n",
              "11   [gini, 8, 16]     13 -0.911106\n",
              "28  [gini, 16, 19]     11 -0.910527\n",
              "5   [gini, 12, 19]     11 -0.910527"
            ],
            "text/html": [
              "\n",
              "  <div id=\"df-7e73b550-c48e-4e26-87fb-7903f9b74442\">\n",
              "    <div class=\"colab-df-container\">\n",
              "      <div>\n",
              "<style scoped>\n",
              "    .dataframe tbody tr th:only-of-type {\n",
              "        vertical-align: middle;\n",
              "    }\n",
              "\n",
              "    .dataframe tbody tr th {\n",
              "        vertical-align: top;\n",
              "    }\n",
              "\n",
              "    .dataframe thead th {\n",
              "        text-align: right;\n",
              "    }\n",
              "</style>\n",
              "<table border=\"1\" class=\"dataframe\">\n",
              "  <thead>\n",
              "    <tr style=\"text-align: right;\">\n",
              "      <th></th>\n",
              "      <th>Parametros</th>\n",
              "      <th>Folds</th>\n",
              "      <th>Recall</th>\n",
              "    </tr>\n",
              "  </thead>\n",
              "  <tbody>\n",
              "    <tr>\n",
              "      <th>11</th>\n",
              "      <td>[gini, 8, 16]</td>\n",
              "      <td>13</td>\n",
              "      <td>-0.911106</td>\n",
              "    </tr>\n",
              "    <tr>\n",
              "      <th>28</th>\n",
              "      <td>[gini, 16, 19]</td>\n",
              "      <td>11</td>\n",
              "      <td>-0.910527</td>\n",
              "    </tr>\n",
              "    <tr>\n",
              "      <th>5</th>\n",
              "      <td>[gini, 12, 19]</td>\n",
              "      <td>11</td>\n",
              "      <td>-0.910527</td>\n",
              "    </tr>\n",
              "  </tbody>\n",
              "</table>\n",
              "</div>\n",
              "      <button class=\"colab-df-convert\" onclick=\"convertToInteractive('df-7e73b550-c48e-4e26-87fb-7903f9b74442')\"\n",
              "              title=\"Convert this dataframe to an interactive table.\"\n",
              "              style=\"display:none;\">\n",
              "        \n",
              "  <svg xmlns=\"http://www.w3.org/2000/svg\" height=\"24px\"viewBox=\"0 0 24 24\"\n",
              "       width=\"24px\">\n",
              "    <path d=\"M0 0h24v24H0V0z\" fill=\"none\"/>\n",
              "    <path d=\"M18.56 5.44l.94 2.06.94-2.06 2.06-.94-2.06-.94-.94-2.06-.94 2.06-2.06.94zm-11 1L8.5 8.5l.94-2.06 2.06-.94-2.06-.94L8.5 2.5l-.94 2.06-2.06.94zm10 10l.94 2.06.94-2.06 2.06-.94-2.06-.94-.94-2.06-.94 2.06-2.06.94z\"/><path d=\"M17.41 7.96l-1.37-1.37c-.4-.4-.92-.59-1.43-.59-.52 0-1.04.2-1.43.59L10.3 9.45l-7.72 7.72c-.78.78-.78 2.05 0 2.83L4 21.41c.39.39.9.59 1.41.59.51 0 1.02-.2 1.41-.59l7.78-7.78 2.81-2.81c.8-.78.8-2.07 0-2.86zM5.41 20L4 18.59l7.72-7.72 1.47 1.35L5.41 20z\"/>\n",
              "  </svg>\n",
              "      </button>\n",
              "      \n",
              "  <style>\n",
              "    .colab-df-container {\n",
              "      display:flex;\n",
              "      flex-wrap:wrap;\n",
              "      gap: 12px;\n",
              "    }\n",
              "\n",
              "    .colab-df-convert {\n",
              "      background-color: #E8F0FE;\n",
              "      border: none;\n",
              "      border-radius: 50%;\n",
              "      cursor: pointer;\n",
              "      display: none;\n",
              "      fill: #1967D2;\n",
              "      height: 32px;\n",
              "      padding: 0 0 0 0;\n",
              "      width: 32px;\n",
              "    }\n",
              "\n",
              "    .colab-df-convert:hover {\n",
              "      background-color: #E2EBFA;\n",
              "      box-shadow: 0px 1px 2px rgba(60, 64, 67, 0.3), 0px 1px 3px 1px rgba(60, 64, 67, 0.15);\n",
              "      fill: #174EA6;\n",
              "    }\n",
              "\n",
              "    [theme=dark] .colab-df-convert {\n",
              "      background-color: #3B4455;\n",
              "      fill: #D2E3FC;\n",
              "    }\n",
              "\n",
              "    [theme=dark] .colab-df-convert:hover {\n",
              "      background-color: #434B5C;\n",
              "      box-shadow: 0px 1px 3px 1px rgba(0, 0, 0, 0.15);\n",
              "      filter: drop-shadow(0px 1px 2px rgba(0, 0, 0, 0.3));\n",
              "      fill: #FFFFFF;\n",
              "    }\n",
              "  </style>\n",
              "\n",
              "      <script>\n",
              "        const buttonEl =\n",
              "          document.querySelector('#df-7e73b550-c48e-4e26-87fb-7903f9b74442 button.colab-df-convert');\n",
              "        buttonEl.style.display =\n",
              "          google.colab.kernel.accessAllowed ? 'block' : 'none';\n",
              "\n",
              "        async function convertToInteractive(key) {\n",
              "          const element = document.querySelector('#df-7e73b550-c48e-4e26-87fb-7903f9b74442');\n",
              "          const dataTable =\n",
              "            await google.colab.kernel.invokeFunction('convertToInteractive',\n",
              "                                                     [key], {});\n",
              "          if (!dataTable) return;\n",
              "\n",
              "          const docLinkHtml = 'Like what you see? Visit the ' +\n",
              "            '<a target=\"_blank\" href=https://colab.research.google.com/notebooks/data_table.ipynb>data table notebook</a>'\n",
              "            + ' to learn more about interactive tables.';\n",
              "          element.innerHTML = '';\n",
              "          dataTable['output_type'] = 'display_data';\n",
              "          await google.colab.output.renderOutput(dataTable, element);\n",
              "          const docLink = document.createElement('div');\n",
              "          docLink.innerHTML = docLinkHtml;\n",
              "          element.appendChild(docLink);\n",
              "        }\n",
              "      </script>\n",
              "    </div>\n",
              "  </div>\n",
              "  "
            ]
          },
          "metadata": {},
          "execution_count": 92
        }
      ]
    },
    {
      "cell_type": "code",
      "source": [
        "lista_resultado = []\n",
        "\n",
        "#Bayesian Optimization\n",
        "resultados_BO = gp_minimize(treinar_modelo, space, random_state=42,\n",
        "                            verbose=0, \n",
        "                            n_calls=30, \n",
        "                            n_random_starts=10\n",
        "                            )\n",
        "\n",
        "print(f\"Parametros: {resultados_BO.x} \\nRecall: {-round(resultados_BO.fun, 4)}\")\n",
        "para_BO = resultados_BO.x"
      ],
      "metadata": {
        "colab": {
          "base_uri": "https://localhost:8080/"
        },
        "id": "UN3kCNzXgJxy",
        "outputId": "8f0733d3-0ee7-4fb8-e002-5a55bdc521c3"
      },
      "execution_count": 93,
      "outputs": [
        {
          "output_type": "stream",
          "name": "stdout",
          "text": [
            "['gini', 8, 17]\n",
            "['gini', 12, 9]\n",
            "['entropy', 10, 10]\n",
            "['gini', 6, 17]\n",
            "['gini', 5, 20]\n",
            "['gini', 14, 8]\n",
            "['entropy', 13, 13]\n",
            "['entropy', 20, 11]\n",
            "['entropy', 14, 13]\n",
            "['gini', 12, 18]\n",
            "['gini', 20, 16]\n",
            "['entropy', 5, 16]\n",
            "['gini', 5, 15]\n",
            "['entropy', 20, 18]\n",
            "['entropy', 20, 20]\n",
            "['entropy', 20, 8]\n"
          ]
        },
        {
          "output_type": "stream",
          "name": "stderr",
          "text": [
            "/usr/local/lib/python3.8/dist-packages/skopt/optimizer/optimizer.py:449: UserWarning:\n",
            "\n",
            "The objective has been evaluated at this point before.\n",
            "\n"
          ]
        },
        {
          "output_type": "stream",
          "name": "stdout",
          "text": [
            "['gini', 20, 16]\n",
            "['entropy', 20, 17]\n",
            "['gini', 20, 13]\n",
            "['gini', 20, 19]\n",
            "['entropy', 5, 19]\n",
            "['gini', 5, 16]\n",
            "['entropy', 20, 15]\n",
            "['gini', 5, 14]\n",
            "['gini', 5, 12]\n",
            "['gini', 5, 11]\n",
            "['entropy', 20, 14]\n",
            "['entropy', 5, 9]\n"
          ]
        },
        {
          "output_type": "stream",
          "name": "stderr",
          "text": [
            "/usr/local/lib/python3.8/dist-packages/skopt/optimizer/optimizer.py:449: UserWarning:\n",
            "\n",
            "The objective has been evaluated at this point before.\n",
            "\n"
          ]
        },
        {
          "output_type": "stream",
          "name": "stdout",
          "text": [
            "['gini', 5, 16]\n",
            "['gini', 5, 19]\n",
            "Parametros: ['gini', 20, 16] \n",
            "Recall: 0.9111\n"
          ]
        }
      ]
    },
    {
      "cell_type": "code",
      "source": [
        "pd.DataFrame(lista_resultado, columns=['Parametros', 'Folds', 'Recall']).sort_values(by='Recall').head(3)\n",
        "# criterion = params[0]\n",
        "# max_depth = params[1]\n",
        "# min_samples_leaf = params[2]"
      ],
      "metadata": {
        "colab": {
          "base_uri": "https://localhost:8080/",
          "height": 143
        },
        "id": "TRUDiUHF84rr",
        "outputId": "21ed4169-49da-4b36-df2d-bd80a3747c8e"
      },
      "execution_count": 94,
      "outputs": [
        {
          "output_type": "execute_result",
          "data": {
            "text/plain": [
              "        Parametros  Folds    Recall\n",
              "21   [gini, 5, 16]     13 -0.911106\n",
              "16  [gini, 20, 16]     13 -0.911106\n",
              "28   [gini, 5, 16]     13 -0.911106"
            ],
            "text/html": [
              "\n",
              "  <div id=\"df-ceb2a890-2e40-4c8e-9670-f45affed0758\">\n",
              "    <div class=\"colab-df-container\">\n",
              "      <div>\n",
              "<style scoped>\n",
              "    .dataframe tbody tr th:only-of-type {\n",
              "        vertical-align: middle;\n",
              "    }\n",
              "\n",
              "    .dataframe tbody tr th {\n",
              "        vertical-align: top;\n",
              "    }\n",
              "\n",
              "    .dataframe thead th {\n",
              "        text-align: right;\n",
              "    }\n",
              "</style>\n",
              "<table border=\"1\" class=\"dataframe\">\n",
              "  <thead>\n",
              "    <tr style=\"text-align: right;\">\n",
              "      <th></th>\n",
              "      <th>Parametros</th>\n",
              "      <th>Folds</th>\n",
              "      <th>Recall</th>\n",
              "    </tr>\n",
              "  </thead>\n",
              "  <tbody>\n",
              "    <tr>\n",
              "      <th>21</th>\n",
              "      <td>[gini, 5, 16]</td>\n",
              "      <td>13</td>\n",
              "      <td>-0.911106</td>\n",
              "    </tr>\n",
              "    <tr>\n",
              "      <th>16</th>\n",
              "      <td>[gini, 20, 16]</td>\n",
              "      <td>13</td>\n",
              "      <td>-0.911106</td>\n",
              "    </tr>\n",
              "    <tr>\n",
              "      <th>28</th>\n",
              "      <td>[gini, 5, 16]</td>\n",
              "      <td>13</td>\n",
              "      <td>-0.911106</td>\n",
              "    </tr>\n",
              "  </tbody>\n",
              "</table>\n",
              "</div>\n",
              "      <button class=\"colab-df-convert\" onclick=\"convertToInteractive('df-ceb2a890-2e40-4c8e-9670-f45affed0758')\"\n",
              "              title=\"Convert this dataframe to an interactive table.\"\n",
              "              style=\"display:none;\">\n",
              "        \n",
              "  <svg xmlns=\"http://www.w3.org/2000/svg\" height=\"24px\"viewBox=\"0 0 24 24\"\n",
              "       width=\"24px\">\n",
              "    <path d=\"M0 0h24v24H0V0z\" fill=\"none\"/>\n",
              "    <path d=\"M18.56 5.44l.94 2.06.94-2.06 2.06-.94-2.06-.94-.94-2.06-.94 2.06-2.06.94zm-11 1L8.5 8.5l.94-2.06 2.06-.94-2.06-.94L8.5 2.5l-.94 2.06-2.06.94zm10 10l.94 2.06.94-2.06 2.06-.94-2.06-.94-.94-2.06-.94 2.06-2.06.94z\"/><path d=\"M17.41 7.96l-1.37-1.37c-.4-.4-.92-.59-1.43-.59-.52 0-1.04.2-1.43.59L10.3 9.45l-7.72 7.72c-.78.78-.78 2.05 0 2.83L4 21.41c.39.39.9.59 1.41.59.51 0 1.02-.2 1.41-.59l7.78-7.78 2.81-2.81c.8-.78.8-2.07 0-2.86zM5.41 20L4 18.59l7.72-7.72 1.47 1.35L5.41 20z\"/>\n",
              "  </svg>\n",
              "      </button>\n",
              "      \n",
              "  <style>\n",
              "    .colab-df-container {\n",
              "      display:flex;\n",
              "      flex-wrap:wrap;\n",
              "      gap: 12px;\n",
              "    }\n",
              "\n",
              "    .colab-df-convert {\n",
              "      background-color: #E8F0FE;\n",
              "      border: none;\n",
              "      border-radius: 50%;\n",
              "      cursor: pointer;\n",
              "      display: none;\n",
              "      fill: #1967D2;\n",
              "      height: 32px;\n",
              "      padding: 0 0 0 0;\n",
              "      width: 32px;\n",
              "    }\n",
              "\n",
              "    .colab-df-convert:hover {\n",
              "      background-color: #E2EBFA;\n",
              "      box-shadow: 0px 1px 2px rgba(60, 64, 67, 0.3), 0px 1px 3px 1px rgba(60, 64, 67, 0.15);\n",
              "      fill: #174EA6;\n",
              "    }\n",
              "\n",
              "    [theme=dark] .colab-df-convert {\n",
              "      background-color: #3B4455;\n",
              "      fill: #D2E3FC;\n",
              "    }\n",
              "\n",
              "    [theme=dark] .colab-df-convert:hover {\n",
              "      background-color: #434B5C;\n",
              "      box-shadow: 0px 1px 3px 1px rgba(0, 0, 0, 0.15);\n",
              "      filter: drop-shadow(0px 1px 2px rgba(0, 0, 0, 0.3));\n",
              "      fill: #FFFFFF;\n",
              "    }\n",
              "  </style>\n",
              "\n",
              "      <script>\n",
              "        const buttonEl =\n",
              "          document.querySelector('#df-ceb2a890-2e40-4c8e-9670-f45affed0758 button.colab-df-convert');\n",
              "        buttonEl.style.display =\n",
              "          google.colab.kernel.accessAllowed ? 'block' : 'none';\n",
              "\n",
              "        async function convertToInteractive(key) {\n",
              "          const element = document.querySelector('#df-ceb2a890-2e40-4c8e-9670-f45affed0758');\n",
              "          const dataTable =\n",
              "            await google.colab.kernel.invokeFunction('convertToInteractive',\n",
              "                                                     [key], {});\n",
              "          if (!dataTable) return;\n",
              "\n",
              "          const docLinkHtml = 'Like what you see? Visit the ' +\n",
              "            '<a target=\"_blank\" href=https://colab.research.google.com/notebooks/data_table.ipynb>data table notebook</a>'\n",
              "            + ' to learn more about interactive tables.';\n",
              "          element.innerHTML = '';\n",
              "          dataTable['output_type'] = 'display_data';\n",
              "          await google.colab.output.renderOutput(dataTable, element);\n",
              "          const docLink = document.createElement('div');\n",
              "          docLink.innerHTML = docLinkHtml;\n",
              "          element.appendChild(docLink);\n",
              "        }\n",
              "      </script>\n",
              "    </div>\n",
              "  </div>\n",
              "  "
            ]
          },
          "metadata": {},
          "execution_count": 94
        }
      ]
    },
    {
      "cell_type": "code",
      "source": [
        "#Confrontando as duas técnicas\n",
        "plot_convergence(('Random Search', resultado_RS), \n",
        "                 ('Bayesian Optimization', resultados_BO))\n",
        "plt.legend(loc=\"best\", prop={'size': 10}, numpoints=1)\n",
        "plt.show()"
      ],
      "metadata": {
        "colab": {
          "base_uri": "https://localhost:8080/",
          "height": 301
        },
        "id": "aihjF4B9gopE",
        "outputId": "2a9489d8-c5b8-40a5-fa3a-0a85772079dd"
      },
      "execution_count": 45,
      "outputs": [
        {
          "output_type": "display_data",
          "data": {
            "text/plain": [
              "<Figure size 432x288 with 1 Axes>"
            ],
            "image/png": "[encoded data removed]"
          },
          "metadata": {
            "needs_background": "light"
          }
        }
      ]
    },
    {
      "cell_type": "code",
      "source": [
        "print(f\"Vamos prosseguir com os parâmetros escolhidos pela Bayesian Optimazation: {para_BO}\")"
      ],
      "metadata": {
        "colab": {
          "base_uri": "https://localhost:8080/"
        },
        "id": "azn1c9ltnJmz",
        "outputId": "236226b6-8b7e-4053-d30a-41f8d6b4f1a4"
      },
      "execution_count": 46,
      "outputs": [
        {
          "output_type": "stream",
          "name": "stdout",
          "text": [
            "Vamos prosseguir com os parâmetros escolhidos pela Bayesian Optimazation: ['gini', 20, 16]\n"
          ]
        }
      ]
    },
    {
      "cell_type": "code",
      "source": [
        "# Configurando a pipeline com os parametros escolhidos\n",
        "\n",
        "pipe = Pipeline(steps=[('preprocessor', preprocessor),\n",
        "                       ('clf', DecisionTreeClassifier(criterion = 'gini',\n",
        "                                                      max_depth = 20,\n",
        "                                                      min_samples_leaf = 16,\n",
        "                                                      random_state=42)\n",
        "                       )\n",
        "                       ]\n",
        "                )\n",
        "  \n",
        "pipe.fit(X_train, y_train)\n",
        "\n",
        "print(f\"Se tratando de um pipeline de uma Decision Tree Classifier a métrica padrão é a precisão média.\")\n",
        "print(f\"Score: {round(pipe.score(X_train, y_train), 2)}\")"
      ],
      "metadata": {
        "id": "0jY1ABw6nUWd",
        "colab": {
          "base_uri": "https://localhost:8080/"
        },
        "outputId": "61599422-4762-4e7b-b4ca-2638e995f0d6"
      },
      "execution_count": 47,
      "outputs": [
        {
          "output_type": "stream",
          "name": "stdout",
          "text": [
            "Se tratando de um pipeline de uma Decision Tree Classifier a métrica padrão é a precisão média.\n",
            "Score: 0.83\n"
          ]
        }
      ]
    },
    {
      "cell_type": "markdown",
      "source": [
        "Contudo esse valor sozinho é insuficiente para nos dar uma resposta sólida sobre o modelo.\n",
        "Para modelos de classificação uma técnica bem usada é a matriz de confusão, ela nos mostra várias informações de como o modelo está se comportando. <br>\n",
        "*However, this value alone is insufficient to give us a solid answer about the model.\n",
        "For classification models a well used technique is the confusion matrix, it shows us various information about how the model is behaving.*"
      ],
      "metadata": {
        "id": "XVd_xG-MhcmY"
      }
    },
    {
      "cell_type": "markdown",
      "source": [
        "### 2.4 Cross_validation"
      ],
      "metadata": {
        "id": "qdGV7vXqhBMU"
      }
    },
    {
      "cell_type": "markdown",
      "source": [
        "Usaremos o cross validation para termos uma ideia de como os scores do modelo se comportam de forma mais generalizada. \n",
        "As métricas comumente mais usadas em problemas de classificação são descritas abaixo. <br>\n",
        "*We'll use cross validation to get an idea of how the model's scores behave more generally.\n",
        "The most commonly used metrics in classification problems are described below.*"
      ],
      "metadata": {
        "id": "NwUBEjlsby1u"
      }
    },
    {
      "cell_type": "markdown",
      "source": [
        "Métricas:\n",
        "- Precisão: dentre todas as classificações de classe Positivo que o modelo fez, quantas estão corretas (acurácia das predições positivas);\n",
        "- Acurácia: indica uma performance geral do modelo. Dentre todas as classificações, quantas o modelo classificou corretamente;<br>\n",
        "\n",
        "Aqui já cabe uma observação, acurácia não é a mesma coisa de precisão, embora muitas vezes sejam usados como sinônimos. A acurácia é uma especie de \"soma\" entre precisão e exatidão. Ou seja, nela os resultados não bastam serem precisos, devem estar o mais próximo do valor referência.\n",
        "- Recall/Revocação/Sensibilidade: dentre todas as situações de classe Positivo como valor esperado, quantas estão corretas (deverá ser o mais alto possível, nesse caso);\n",
        "- F1-Score: média harmônica entre precisão e recall.\n",
        "<br>\n",
        "---\n",
        "Metrics:\n",
        "- Accuracy: among all the Positive class classifications that the model made, how many are correct (accuracy of positive predictions);\n",
        "- Accuracy: indicates a general performance of the model. Of all the classifications, how many did the model classify correctly;<br>\n",
        "\n",
        "Here, an observation is in order, accuracy is not the same thing as precision, although they are often used as synonyms. Accuracy is a kind of \"sum\" between precision and accuracy. That is, in it the results are not enough to be precise, they must be as close to the reference value as possible.\n",
        "- Recall/Revocation/Sensitivity: among all situations with a Positive class as expected value, how many are correct (it should be as high as possible, in this case);\n",
        "- F1-Score: harmonic mean between precision and recall.\n",
        "---"
      ],
      "metadata": {
        "id": "blKeSvPSp_e2"
      }
    },
    {
      "cell_type": "markdown",
      "source": [
        "Esse loop foi usado para verificar com quantos folds o modelo tem maior valor para o Recall, usando valores entre 2 e 15.<br>\n",
        "\n",
        "*This loop was used to check how many folds the model has the highest value for Recall, using values between 2 and 15.*"
      ],
      "metadata": {
        "id": "WHxTkZj7e3NY"
      }
    },
    {
      "cell_type": "code",
      "source": [
        "#Cross-Validation\n",
        "scoring = ['accuracy', 'precision', 'recall', 'f1']\n",
        "\n",
        "valid_cruz = KFold(n_splits=11, \n",
        "                     random_state=42, \n",
        "                     shuffle=True)\n",
        "  \n",
        "# valid_cruz_strat = StratifiedKFold(n_splits=kfold, shuffle=True, \n",
        "#                                    random_state=42)\n",
        "  \n",
        "for score in scoring:\n",
        "    cv_scores = cross_val_score(pipe['clf'], X_train, y_train,\n",
        "                                cv=valid_cruz,\n",
        "                                scoring=score\n",
        "                                )\n",
        "    print(f\"{score} = {round(cv_scores.mean(), 2)}\\n\")"
      ],
      "metadata": {
        "colab": {
          "base_uri": "https://localhost:8080/"
        },
        "id": "ya5tDMzpvMal",
        "outputId": "3e38facd-b79c-4c51-9c77-eec281253cb2"
      },
      "execution_count": 50,
      "outputs": [
        {
          "output_type": "stream",
          "name": "stdout",
          "text": [
            "accuracy = 0.72\n",
            "\n",
            "precision = 0.72\n",
            "\n",
            "recall = 0.73\n",
            "\n",
            "f1 = 0.71\n",
            "\n"
          ]
        }
      ]
    },
    {
      "cell_type": "markdown",
      "source": [
        "### 2.5 Matriz confusão"
      ],
      "metadata": {
        "id": "YSvOruUg851f"
      }
    },
    {
      "cell_type": "markdown",
      "source": [
        "Utilizando os resultados acima vamos construir nossa matriz de confusão. É precisso fazer predições para alimentar a matriz de confusão baseado no dataset de treino. Ela nos mostra o comportamento do modelo nas suas previsões, confrontando as predições da variável target com os valores reais.<br>\n",
        "\n",
        "---\n",
        "Using the results above we will build our confusion matrix. Predictions need to be made to feed the confusion matrix based on the training dataset. It shows us the behavior of the model in its predictions, comparing the predictions of the target variable with the real values.\n"
      ],
      "metadata": {
        "id": "axVXfr7HfHn4"
      }
    },
    {
      "cell_type": "code",
      "source": [
        "#fazendo as predições/ Predictions\n",
        "y_train_pred = cross_val_predict(pipe['clf'], X_train, y_train, cv=valid_cruz)\n",
        "\n",
        "#criando a matriz de confusão/ Confusion Matrix\n",
        "conf_mat = confusion_matrix(y_train, y_train_pred)\n",
        "\n",
        "#plot da matriz/ Matrix plot\n",
        "ConfusionMatrixDisplay(confusion_matrix=conf_mat, \n",
        "                       display_labels=pipe['clf'].classes_).plot()\n",
        "plt.grid(False)\n",
        "plt.show()\n",
        "\n",
        "#criando um report para visualizar outras métricas\n",
        "#creating a report to view other metrics\n",
        "print(\"\\n\", classification_report(y_train, y_train_pred))"
      ],
      "metadata": {
        "colab": {
          "base_uri": "https://localhost:8080/",
          "height": 457
        },
        "id": "BSjGZFYFOpgB",
        "outputId": "77d3a7ac-c92c-4ce6-b3bb-9a35a7792f17"
      },
      "execution_count": 51,
      "outputs": [
        {
          "output_type": "display_data",
          "data": {
            "text/plain": [
              "<Figure size 432x288 with 2 Axes>"
            ],
            "image/png": "[encoded data removed]"
          },
          "metadata": {
            "needs_background": "light"
          }
        },
        {
          "output_type": "stream",
          "name": "stdout",
          "text": [
            "\n",
            "               precision    recall  f1-score   support\n",
            "\n",
            "           0       0.68      0.68      0.68        91\n",
            "           1       0.75      0.75      0.75       116\n",
            "\n",
            "    accuracy                           0.72       207\n",
            "   macro avg       0.72      0.72      0.72       207\n",
            "weighted avg       0.72      0.72      0.72       207\n",
            "\n"
          ]
        }
      ]
    },
    {
      "cell_type": "markdown",
      "source": [
        "De acordo com nossa matriz de confusão:\n",
        "* 62 verdadeiros negativos, ou seja, das pessoas que realmente tinha menor chance de ter um ataque cardíaco quantas o modelo classifou como tendo menor chance de ter um ataque cardíaco.\n",
        "* 29 Falsos positivo, ou seja, o modelo previu como tendo Maior chance de ter um ataque cardíaco, mas que na verdade o paciente tem menor chance de ter um ataque.\n",
        "* **29 Falsos negativo, pacientes que tem Maior chance de ter um ataque cardíaco, mas o modelo previu como tendo menor chance. Esse número traz maior preocupação, pois seriam pacientes que deveriam ser encaminhados para tratamentos e não serão de acordo com o modelo.**\n",
        "* 87 Verdadeiros Positivos, pacientes com Maior chance de ter um ataque cardíaco e foram previstos corretamente pelo modelo.\n",
        "---\n",
        "According to our confusion matrix:\n",
        "* 62 true negatives, that is, of the people who actually had a lower chance of having a heart attack, how many the model classified as having a lower chance of having a heart attack.\n",
        "* 29 False positives, that is, the model predicted as having a greater chance of having a heart attack, but that in fact the patient has a lower chance of having an attack.\n",
        "* **29 False negatives, patients who are more likely to have a heart attack but the model predicted as having a lower chance. This number brings greater concern, as they would be patients who should be referred for treatments and will not be according to the model.**\n",
        "* 87 True Positives, patients most likely to have a heart attack and were correctly predicted by the model."
      ],
      "metadata": {
        "id": "FKpuROk4Qqxe"
      }
    },
    {
      "cell_type": "markdown",
      "source": [
        "### 2.6 Trade-OFF Precisão x Recall"
      ],
      "metadata": {
        "id": "iuo6BNNDnp-l"
      }
    },
    {
      "cell_type": "markdown",
      "source": [
        "Threshold: todo modelo de classificação tem uma função ou um valor de decisão que divide os casos entre sendo da categoria alvo e não sendo. Esse valor é o limiar do modelo."
      ],
      "metadata": {
        "id": "WdS3Odhw29Z9"
      }
    },
    {
      "cell_type": "markdown",
      "source": [
        "Para o threshold padrão = 0.5, temos a seguinte relação entre precisão e recall, utilizando as funções ```recall_score()``` e ```precision_score()```:\n"
      ],
      "metadata": {
        "id": "M45B6B-bcaOe"
      }
    },
    {
      "cell_type": "code",
      "source": [
        "prob_pred = cross_val_predict(pipe['clf'], \n",
        "                              X_train, y_train,\n",
        "                              cv=valid_cruz, \n",
        "                              method='predict_proba'\n",
        "                              )[:,1]\n",
        "\n",
        "threshold = 0.5\n",
        "thresholds = np.arange(0, 1.0, step=0.01)\n",
        "idx = (thresholds >= threshold).argmax()  # first index ≥ threshold\n",
        "\n",
        "recall_scores = [recall_score(y_train, prob_pred > t) for t in thresholds]\n",
        "precis_scores = [precision_score(y_train, prob_pred > t) for t in thresholds]\n",
        "\n",
        "fig, ax = plt.subplots(1, 1, figsize = (10,6))\n",
        "\n",
        "ax.plot(thresholds, recall_scores, 'g-', label=\"Recall @ t\")\n",
        "ax.plot(thresholds, precis_scores, 'b--', label=\"Precision @ t\")\n",
        "ax.axvline(thresholds[idx], c=\"gray\", linestyle=\"--\", label=\"Default Threshold\")\n",
        "ax.set_xlabel(\"Threshold\")\n",
        "ax.set_ylabel(\"Metric @ Threshold\")\n",
        "ax.annotate('({})'.format(round(precis_scores[idx], 2)), \n",
        "            xy=(thresholds[idx], precis_scores[idx]))\n",
        "ax.annotate('({})'.format(round(recall_scores[idx], 2)), \n",
        "            xy=(thresholds[idx], recall_scores[idx]))\n",
        "plt.axis([-0.01, 1.01, 0.3, 1.01])\n",
        "\n",
        "#fixando um threshold para o gráfico\n",
        "plt.plot(thresholds[idx], precis_scores[idx], \"bo\")\n",
        "plt.plot(thresholds[idx], recall_scores[idx], \"go\")\n",
        "plt.grid()\n",
        "ax.legend()\n",
        "plt.show()"
      ],
      "metadata": {
        "id": "WDDYbnjtUSA7",
        "colab": {
          "base_uri": "https://localhost:8080/",
          "height": 392
        },
        "outputId": "f4bd39df-6e7f-4088-b89c-7abad644d2d0"
      },
      "execution_count": 52,
      "outputs": [
        {
          "output_type": "display_data",
          "data": {
            "text/plain": [
              "<Figure size 720x432 with 1 Axes>"
            ],
            "image/png": "[encoded data removed]"
          },
          "metadata": {
            "needs_background": "light"
          }
        }
      ]
    },
    {
      "cell_type": "markdown",
      "source": [
        "Agora o gráfico da Precisão x Recall"
      ],
      "metadata": {
        "id": "qegYpIrbnDJO"
      }
    },
    {
      "cell_type": "code",
      "source": [
        "y_train_pred_prob = cross_val_predict(pipe['clf'], \n",
        "                                      X_train, y_train, \n",
        "                                      cv=valid_cruz, \n",
        "                                      method='predict_proba'\n",
        "                                      )[:,1]\n",
        "\n",
        "thresholds = np.arange(0, 1.0, step=0.01)\n",
        "\n",
        "recall_scores = [recall_score(y_train, prob_pred > t) for t in thresholds]\n",
        "precis_scores = [precision_score(y_train, prob_pred > t) for t in thresholds]\n",
        "\n",
        "threshold = 0.5\n",
        "idx = (thresholds >= threshold).argmax() \n",
        "\n",
        "print(f'Recall: {round(recall_scores[idx], 2)}')\n",
        "print(f'Precision: {round(precis_scores[idx], 2)}')\n",
        "\n",
        "plt.figure(figsize=(6, 5))  # extra code – not needed, just formatting\n",
        "\n",
        "\n",
        "plt.plot(recall_scores, precis_scores, linewidth=2, label=\"Precision/Recall curve\")\n",
        "\n",
        "plt.plot([recall_scores[idx], recall_scores[idx]], [0., precis_scores[idx]], \"k:\")\n",
        "plt.plot([0.0, recall_scores[idx]], [precis_scores[idx], precis_scores[idx]], \"k:\")\n",
        "plt.plot([recall_scores[idx]], [precis_scores[idx]], \"ko\",\n",
        "         label=\"Point at threshold \"+str(threshold))\n",
        "\n",
        "plt.xlabel(\"Recall\")\n",
        "plt.ylabel(\"Precision\")\n",
        "plt.axis([0.4, 1, 0.6, 0.95])\n",
        "plt.grid()\n",
        "plt.legend(loc=\"lower left\")\n",
        "\n",
        "plt.show()"
      ],
      "metadata": {
        "colab": {
          "base_uri": "https://localhost:8080/",
          "height": 377
        },
        "id": "7cImXGXZfxeN",
        "outputId": "2590a2e9-e52b-40d6-aa1d-c41367eead2c"
      },
      "execution_count": 53,
      "outputs": [
        {
          "output_type": "stream",
          "name": "stdout",
          "text": [
            "Recall: 0.75\n",
            "Precision: 0.75\n"
          ]
        },
        {
          "output_type": "display_data",
          "data": {
            "text/plain": [
              "<Figure size 432x360 with 1 Axes>"
            ],
            "image/png": "[encoded data removed]"
          },
          "metadata": {
            "needs_background": "light"
          }
        }
      ]
    },
    {
      "cell_type": "markdown",
      "source": [
        "É observado em diferentes gráficos acima como é a relação entre Precisão e Recall, para este caso, e quais os valores para o threshold padrão de 0.5. <br>\n",
        "Precisão = 0.75 <br>\n",
        "Recall = 0.75\n",
        "\n",
        "---\n",
        "It is observed in different graphs above how is the relationship between Precision and Recall, for this case, and what are the values for the default threshold of 0.5. <br>\n",
        "Accuracy = 0.75 <br>\n",
        "Recall = 0.75"
      ],
      "metadata": {
        "id": "mFFANdjlq4wJ"
      }
    },
    {
      "cell_type": "markdown",
      "source": [
        "Pelo gráfico da Métrica do Threshold é possível ver visualmente que com um threshold = 0.12, vamos obter um recall = 97,4%\n",
        "\n",
        "---\n",
        "By the Threshold Metric graph, it is possible to visually see that with a threshold = 0.12, we will obtain a recall = 97.4%"
      ],
      "metadata": {
        "id": "hotW2ypKlowQ"
      }
    },
    {
      "cell_type": "code",
      "source": [
        "threshold_for_97_recall = 0.12\n",
        "y_train_pred_97_recall = (y_train_pred_prob >= threshold_for_97_recall)"
      ],
      "metadata": {
        "id": "TXpFbUZFjWoe"
      },
      "execution_count": 82,
      "outputs": []
    },
    {
      "cell_type": "code",
      "source": [
        "print(\"Precision: \", round(precision_score(y_train, y_train_pred_97_recall), 3))\n",
        "print(\"Recall: \", round(recall_score(y_train, y_train_pred_97_recall), 3))"
      ],
      "metadata": {
        "colab": {
          "base_uri": "https://localhost:8080/"
        },
        "id": "4isUn0ddjWmS",
        "outputId": "c764b5c0-7f26-4697-f93c-75d5e69d6606"
      },
      "execution_count": 83,
      "outputs": [
        {
          "output_type": "stream",
          "name": "stdout",
          "text": [
            "Precision:  0.661\n",
            "Recall:  0.974\n"
          ]
        }
      ]
    },
    {
      "cell_type": "markdown",
      "source": [
        "Agora temos uma matriz confusão com recall de 97% e uma quantidade de Falsos Negativos muito baixa."
      ],
      "metadata": {
        "id": "3jdw38exnUsy"
      }
    },
    {
      "cell_type": "code",
      "source": [
        "#criando a matriz de confusão/ Confusion Matrix\n",
        "conf_mat = confusion_matrix(y_train, y_train_pred_97_recall)\n",
        "\n",
        "#plot da matriz/ Matrix plot\n",
        "ConfusionMatrixDisplay(confusion_matrix=conf_mat, \n",
        "                       display_labels=pipe['clf'].classes_).plot()\n",
        "plt.grid(False)\n",
        "plt.show()\n",
        "\n",
        "#criando um report para visualizar outras métricas\n",
        "#creating a report to view other metrics \n",
        "print(\"\\n\", classification_report(y_train, y_train_pred_97_recall))"
      ],
      "metadata": {
        "colab": {
          "base_uri": "https://localhost:8080/",
          "height": 457
        },
        "id": "MPYgLZbMjWjv",
        "outputId": "d8c0a71f-ee4c-4d72-a516-94ceceeff0ce"
      },
      "execution_count": 85,
      "outputs": [
        {
          "output_type": "display_data",
          "data": {
            "text/plain": [
              "<Figure size 432x288 with 2 Axes>"
            ],
            "image/png": "[encoded data removed]"
          },
          "metadata": {
            "needs_background": "light"
          }
        },
        {
          "output_type": "stream",
          "name": "stdout",
          "text": [
            "\n",
            "               precision    recall  f1-score   support\n",
            "\n",
            "           0       0.92      0.36      0.52        91\n",
            "           1       0.66      0.97      0.79       116\n",
            "\n",
            "    accuracy                           0.71       207\n",
            "   macro avg       0.79      0.67      0.65       207\n",
            "weighted avg       0.77      0.71      0.67       207\n",
            "\n"
          ]
        }
      ]
    },
    {
      "cell_type": "markdown",
      "source": [
        "Agora o total de Falsos Negativos caiu para 3.\n",
        "\n",
        "---\n",
        "Now the False Negatives total is down to 3."
      ],
      "metadata": {
        "id": "A8c-qkgPHNyF"
      }
    },
    {
      "cell_type": "code",
      "source": [
        "y_train_pred_prob = cross_val_predict(pipe['clf'], \n",
        "                                      X_train, y_train, \n",
        "                                      cv=valid_cruz, \n",
        "                                      method='predict_proba'\n",
        "                                      )[:,1]\n",
        "\n",
        "thresholds = np.arange(0, 1.0, step=0.01)\n",
        "\n",
        "recall_scores = [recall_score(y_train, prob_pred > t) for t in thresholds]\n",
        "precis_scores = [precision_score(y_train, prob_pred > t) for t in thresholds]\n",
        "\n",
        "threshold = threshold_for_97_recall\n",
        "idx = (thresholds >= threshold).argmax() \n",
        "\n",
        "print(f'Recall: {round(recall_scores[idx], 2)}')\n",
        "print(f'Precision: {round(precis_scores[idx], 2)}')\n",
        "\n",
        "plt.figure(figsize=(6, 5))  # extra code – not needed, just formatting\n",
        "\n",
        "\n",
        "plt.plot(recall_scores, precis_scores, linewidth=2, label=\"Precision/Recall curve\")\n",
        "\n",
        "plt.plot([recall_scores[idx], recall_scores[idx]], [0., precis_scores[idx]], \"k:\")\n",
        "plt.plot([0.0, recall_scores[idx]], [precis_scores[idx], precis_scores[idx]], \"k:\")\n",
        "plt.plot([recall_scores[idx]], [precis_scores[idx]], \"ko\",\n",
        "         label=\"Point at threshold \"+str(threshold))\n",
        "\n",
        "plt.xlabel(\"Recall\")\n",
        "plt.ylabel(\"Precision\")\n",
        "plt.axis([0.4, 1, 0.6, 0.95])\n",
        "plt.grid()\n",
        "plt.legend(loc=\"lower left\")\n",
        "\n",
        "plt.show()\n",
        "\n",
        "prob_pred = cross_val_predict(pipe['clf'], \n",
        "                              X_train, y_train,\n",
        "                              cv=valid_cruz, \n",
        "                              method='predict_proba'\n",
        "                              )[:,1]\n",
        "\n",
        "threshold = threshold_for_97_recall\n",
        "thresholds = np.arange(0, 1.0, step=0.01)\n",
        "idx = (thresholds >= threshold).argmax()  # first index ≥ threshold\n",
        "\n",
        "recall_scores = [recall_score(y_train, prob_pred > t) for t in thresholds]\n",
        "precis_scores = [precision_score(y_train, prob_pred > t) for t in thresholds]\n",
        "\n",
        "fig, ax = plt.subplots(1, 1, figsize = (10,6))\n",
        "\n",
        "ax.plot(thresholds, recall_scores, 'g-', label=\"Recall @ t\")\n",
        "ax.plot(thresholds, precis_scores, 'b--', label=\"Precision @ t\")\n",
        "ax.axvline(thresholds[idx], c=\"gray\", linestyle=\"--\", label=\"Threshold\")\n",
        "ax.set_xlabel(\"Threshold\")\n",
        "ax.set_ylabel(\"Metric @ Threshold\")\n",
        "ax.annotate('({})'.format(round(precis_scores[idx], 2)), \n",
        "            xy=(thresholds[idx], precis_scores[idx]))\n",
        "ax.annotate('({})'.format(round(recall_scores[idx], 2)), \n",
        "            xy=(thresholds[idx], recall_scores[idx]))\n",
        "plt.axis([-0.01, 1.01, 0.3, 1.01])\n",
        "\n",
        "#fixando um threshold para o gráfico/ setting a threshold for the graph\n",
        "plt.plot(thresholds[idx], precis_scores[idx], \"bo\")\n",
        "plt.plot(thresholds[idx], recall_scores[idx], \"go\")\n",
        "plt.grid()\n",
        "ax.legend()\n",
        "plt.show()"
      ],
      "metadata": {
        "colab": {
          "base_uri": "https://localhost:8080/",
          "height": 752
        },
        "id": "G9Q0GD3JFATN",
        "outputId": "8bcf4947-512f-4f71-d128-992512eada58"
      },
      "execution_count": 87,
      "outputs": [
        {
          "output_type": "stream",
          "name": "stdout",
          "text": [
            "Recall: 0.97\n",
            "Precision: 0.66\n"
          ]
        },
        {
          "output_type": "display_data",
          "data": {
            "text/plain": [
              "<Figure size 432x360 with 1 Axes>"
            ],
            "image/png": "[encoded data removed]"
          },
          "metadata": {
            "needs_background": "light"
          }
        },
        {
          "output_type": "display_data",
          "data": {
            "text/plain": [
              "<Figure size 720x432 with 1 Axes>"
            ],
            "image/png": "[encoded data removed]"
          },
          "metadata": {
            "needs_background": "light"
          }
        }
      ]
    },
    {
      "cell_type": "markdown",
      "source": [
        "### 2.7 Curva ROC/ ROC curve"
      ],
      "metadata": {
        "id": "LAKXPA4DnufX"
      }
    },
    {
      "cell_type": "code",
      "source": [
        "fpr, tpr, thresholds = roc_curve(y_train, y_train_pred_prob) #relembrando a equação\n",
        "\n",
        "idx_for_threshold_at_97r = (thresholds <= threshold_for_97_recall).argmax()\n",
        "tpr_97r, fpr_97r = tpr[idx_for_threshold_at_97r], fpr[idx_for_threshold_at_97r]"
      ],
      "metadata": {
        "id": "Si2E9h1gpZGV"
      },
      "execution_count": 88,
      "outputs": []
    },
    {
      "cell_type": "code",
      "source": [
        "# curva para o threshold = 0.12/ # curve for threshold = 0.12\n",
        "y_train_pred_prob = cross_val_predict(pipe['clf'], \n",
        "                                      X_train, y_train, \n",
        "                                      cv=valid_cruz, \n",
        "                                      method='predict_proba'\n",
        "                                      )[:,1] \n",
        "\n",
        "plt.subplots(1, figsize=(8,6))\n",
        "plt.plot(fpr, tpr, linewidth=2, label=\"ROC curve\")\n",
        "\n",
        "#curva para o threshold com recall de 97%\n",
        "plt.plot([fpr_97r], [tpr_97r], 'ko', label='Threshold for 97% recall')\n",
        "\n",
        "print('roc_auc_score for this DecisionTree: ', \n",
        "      round(roc_auc_score(y_train, y_train_pred_prob),2), \n",
        "      '\\n')\n",
        "\n",
        "\n",
        "plt.title('Receiver Operating Characteristic - DecisionTree')\n",
        "plt.plot([0, 1], ls=\"--\")\n",
        "plt.plot([0, 0], [1, 0] , c=\".7\"), plt.plot([1, 1] , c=\".7\")\n",
        "plt.ylabel('True Positive Rate (Recall)')\n",
        "plt.xlabel('False Positive Rate')\n",
        "plt.legend()\n",
        "plt.show()"
      ],
      "metadata": {
        "colab": {
          "base_uri": "https://localhost:8080/",
          "height": 444
        },
        "id": "6tQEYldZjcMF",
        "outputId": "b59c12dc-f34c-4839-9cac-5fb5492763d7"
      },
      "execution_count": 89,
      "outputs": [
        {
          "output_type": "stream",
          "name": "stdout",
          "text": [
            "roc_auc_score for this DecisionTree:  0.81 \n",
            "\n"
          ]
        },
        {
          "output_type": "display_data",
          "data": {
            "text/plain": [
              "<Figure size 576x432 with 1 Axes>"
            ],
            "image/png": "[encoded data removed]"
          },
          "metadata": {
            "needs_background": "light"
          }
        }
      ]
    },
    {
      "cell_type": "code",
      "source": [],
      "metadata": {
        "id": "vQnwHzc-EopN"
      },
      "execution_count": null,
      "outputs": []
    }
  ]
}